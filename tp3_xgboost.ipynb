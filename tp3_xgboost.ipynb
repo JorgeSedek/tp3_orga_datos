{
  "nbformat": 4,
  "nbformat_minor": 0,
  "metadata": {
    "colab": {
      "provenance": [],
      "mount_file_id": "1TNujzvy0SVFVs6VAqPuy03Ym9otkqVjS",
      "authorship_tag": "ABX9TyMzcintAfL9flLFbrdZvFgW",
      "include_colab_link": true
    },
    "kernelspec": {
      "name": "python3",
      "display_name": "Python 3"
    },
    "language_info": {
      "name": "python"
    }
  },
  "cells": [
    {
      "cell_type": "markdown",
      "metadata": {
        "id": "view-in-github",
        "colab_type": "text"
      },
      "source": [
        "<a href=\"https://colab.research.google.com/github/JorgeSedek/tp3_orga_datos/blob/main/tp3_xgboost.ipynb\" target=\"_parent\"><img src=\"https://colab.research.google.com/assets/colab-badge.svg\" alt=\"Open In Colab\"/></a>"
      ]
    },
    {
      "cell_type": "code",
      "execution_count": null,
      "metadata": {
        "id": "wUTViaF1cZ8W"
      },
      "outputs": [],
      "source": [
        "import pandas as pd\n",
        "from sklearn.utils import shuffle\n",
        "from sklearn.preprocessing import OneHotEncoder\n",
        "import numpy as np\n",
        "from xgboost import XGBClassifier \n",
        "from sklearn.model_selection import train_test_split\n",
        "from sklearn.linear_model import LogisticRegression\n",
        "from sklearn.ensemble import RandomForestClassifier"
      ]
    },
    {
      "cell_type": "code",
      "source": [
        "df_train = pd.read_parquet(\"/content/drive/MyDrive/orgaDatos/TP3 dataset music/train.parquet\")"
      ],
      "metadata": {
        "id": "bsAsQ5rUePLk"
      },
      "execution_count": null,
      "outputs": []
    },
    {
      "cell_type": "code",
      "source": [
        "df_test = pd.read_parquet(\"/content/drive/MyDrive/orgaDatos/TP3 dataset music/test.parquet\")"
      ],
      "metadata": {
        "id": "0l02qFvGeP2D"
      },
      "execution_count": null,
      "outputs": []
    },
    {
      "cell_type": "code",
      "source": [
        "df_train.count()"
      ],
      "metadata": {
        "colab": {
          "base_uri": "https://localhost:8080/"
        },
        "id": "6FztJQvxeRrl",
        "outputId": "c5f22990-8b6d-49a5-c129-b587fbe8e419"
      },
      "execution_count": null,
      "outputs": [
        {
          "output_type": "execute_result",
          "data": {
            "text/plain": [
              "track_name          31383\n",
              "lyric               31380\n",
              "genre               31383\n",
              "language            24021\n",
              "popularity          31383\n",
              "artist              31383\n",
              "a_genres            31383\n",
              "a_songs             31383\n",
              "a_popularity        31383\n",
              "did                  7004\n",
              "s-label              7004\n",
              "acousticness        31383\n",
              "danceability        31383\n",
              "duration_ms         31383\n",
              "energy              31383\n",
              "instrumentalness    31383\n",
              "key                 31383\n",
              "liveness            31383\n",
              "loudness            31383\n",
              "mode                31383\n",
              "speechiness         31383\n",
              "tempo               31383\n",
              "time_signature      31383\n",
              "valence             31383\n",
              "dtype: int64"
            ]
          },
          "metadata": {},
          "execution_count": 58
        }
      ]
    },
    {
      "cell_type": "code",
      "source": [
        "def fix_generos(x):\n",
        "    if x in [\"Children’s Music\"]:\n",
        "        return \"Children's Music\"\n",
        "    return x\n",
        " \n",
        "\n",
        "df_train.genre = df_train.genre.map(lambda x:fix_generos(x))\n",
        "df_test.genre = df_test.genre.map(lambda x:fix_generos(x))"
      ],
      "metadata": {
        "id": "zcZffpEveUA8"
      },
      "execution_count": null,
      "outputs": []
    },
    {
      "cell_type": "code",
      "source": [
        "df_train.drop(['track_name','a_genres','did','time_signature'], axis=1, inplace= True)\n",
        "df_test.drop(['track_name','a_genres','did','time_signature'], axis=1, inplace= True)"
      ],
      "metadata": {
        "id": "4n3aJy3meWY9"
      },
      "execution_count": null,
      "outputs": []
    },
    {
      "cell_type": "code",
      "source": [
        "idioma_mas_popular = df_train['language'].value_counts().reset_index()['index'][0]"
      ],
      "metadata": {
        "id": "trTGNe2ZeYeT"
      },
      "execution_count": null,
      "outputs": []
    },
    {
      "cell_type": "code",
      "source": [
        "df_train['language'] = df_train['language'].fillna(idioma_mas_popular)\n",
        "df_test['language'] = df_test['language'].fillna(idioma_mas_popular)"
      ],
      "metadata": {
        "id": "gEiCJ3IDeaWh"
      },
      "execution_count": null,
      "outputs": []
    },
    {
      "cell_type": "code",
      "source": [
        "df_train['s-label'] = df_train['s-label'].fillna(df_train['s-label'].mean())\n",
        "df_test['s-label'] = df_test['s-label'].fillna(df_test['s-label'].mean())"
      ],
      "metadata": {
        "id": "6SBCkdPQecYG"
      },
      "execution_count": null,
      "outputs": []
    },
    {
      "cell_type": "code",
      "source": [
        "df_train.count()"
      ],
      "metadata": {
        "colab": {
          "base_uri": "https://localhost:8080/"
        },
        "id": "-pFSGZdQeeMu",
        "outputId": "8d4a6a0a-d8f6-4b8d-bad0-14084a7b1e51"
      },
      "execution_count": null,
      "outputs": [
        {
          "output_type": "execute_result",
          "data": {
            "text/plain": [
              "lyric               31380\n",
              "genre               31383\n",
              "language            31383\n",
              "popularity          31383\n",
              "artist              31383\n",
              "a_songs             31383\n",
              "a_popularity        31383\n",
              "s-label             31383\n",
              "acousticness        31383\n",
              "danceability        31383\n",
              "duration_ms         31383\n",
              "energy              31383\n",
              "instrumentalness    31383\n",
              "key                 31383\n",
              "liveness            31383\n",
              "loudness            31383\n",
              "mode                31383\n",
              "speechiness         31383\n",
              "tempo               31383\n",
              "valence             31383\n",
              "dtype: int64"
            ]
          },
          "metadata": {},
          "execution_count": 64
        }
      ]
    },
    {
      "cell_type": "markdown",
      "source": [
        "# Separación de Test y Valid"
      ],
      "metadata": {
        "id": "Ie2ti__ReiNM"
      }
    },
    {
      "cell_type": "markdown",
      "source": [
        "Para separar el test y valid se utiliza la feature artist:\n",
        "\n",
        "*   Se mezcla al azar la lista de artistas sin repetir\n",
        "*   Se toma el 80% de esos artistas\n",
        "*   se divide el set de entrenamiento:\n",
        "\n",
        "    1.  las filas que tienen uno de los artistas dentro de la muestra del 80% pasan a ser el nuevo set de entrenamiento.\n",
        "    2.  el resto pasa a ser el set de validación."
      ],
      "metadata": {
        "id": "fzMUCT_9ei_t"
      }
    },
    {
      "cell_type": "code",
      "source": [
        "artistas_shuffled = shuffle(df_train['artist'].unique(), random_state = 8)\n",
        "artistas_80 = artistas_shuffled[:8*(len(artistas_shuffled)//10)]\n",
        "len(artistas_80) / len(artistas_shuffled)"
      ],
      "metadata": {
        "colab": {
          "base_uri": "https://localhost:8080/"
        },
        "id": "rNaS2K0oem2E",
        "outputId": "34bc3d20-a904-4b3c-d127-441cf290fbd4"
      },
      "execution_count": null,
      "outputs": [
        {
          "output_type": "execute_result",
          "data": {
            "text/plain": [
              "0.7985074626865671"
            ]
          },
          "metadata": {},
          "execution_count": 65
        }
      ]
    },
    {
      "cell_type": "code",
      "source": [
        "df_train_final = df_train[df_train['artist'].map(lambda x: x in artistas_80)]\n",
        "df_valid_final = df_train[df_train['artist'].map(lambda x: not (x in artistas_80))]\n",
        "\n",
        "df_train_final.drop(['artist'], axis=1, inplace= True)\n",
        "df_valid_final.drop(['artist'], axis=1, inplace= True)\n",
        "df_test.drop(['artist'], axis=1, inplace= True)"
      ],
      "metadata": {
        "colab": {
          "base_uri": "https://localhost:8080/"
        },
        "id": "BVaQx3hVepns",
        "outputId": "dce71cc0-fbb1-4673-8e1a-ec00daf6ca5b"
      },
      "execution_count": null,
      "outputs": [
        {
          "output_type": "stream",
          "name": "stderr",
          "text": [
            "/usr/local/lib/python3.7/dist-packages/pandas/core/frame.py:4913: SettingWithCopyWarning: \n",
            "A value is trying to be set on a copy of a slice from a DataFrame\n",
            "\n",
            "See the caveats in the documentation: https://pandas.pydata.org/pandas-docs/stable/user_guide/indexing.html#returning-a-view-versus-a-copy\n",
            "  errors=errors,\n"
          ]
        }
      ]
    },
    {
      "cell_type": "code",
      "source": [
        "y_train = df_train_final.genre\n",
        "y_test = df_test.genre\n",
        "x_train = df_train_final.drop(\"genre\", axis = 1)\n",
        "x_test = df_test.drop(\"genre\", axis = 1)"
      ],
      "metadata": {
        "id": "C7vS141ffM7t"
      },
      "execution_count": null,
      "outputs": []
    },
    {
      "cell_type": "code",
      "source": [
        "y_valid = df_valid_final.genre\n",
        "x_valid = df_valid_final.drop(\"genre\", axis = 1)"
      ],
      "metadata": {
        "id": "QKIRbfF-fO4C"
      },
      "execution_count": null,
      "outputs": []
    },
    {
      "cell_type": "code",
      "source": [
        "sets_trabajo = [x_train, x_valid, x_test]"
      ],
      "metadata": {
        "id": "xdwkaeiwfRAy"
      },
      "execution_count": null,
      "outputs": []
    },
    {
      "cell_type": "markdown",
      "source": [
        "# Encoding para lyric"
      ],
      "metadata": {
        "id": "IHKUw6GjfVGj"
      }
    },
    {
      "cell_type": "code",
      "source": [
        "from nltk.corpus import stopwords\n",
        "\n",
        "import nltk\n",
        "\n",
        "nltk.download('punkt')\n",
        "nltk.download('wordnet')\n",
        "nltk.download('stopwords')\n",
        "nltk.download('omw-1.4')"
      ],
      "metadata": {
        "colab": {
          "base_uri": "https://localhost:8080/"
        },
        "id": "vQloZm8qfV2R",
        "outputId": "a95bfefd-de51-46f4-a57e-c89f1a738bbf"
      },
      "execution_count": null,
      "outputs": [
        {
          "output_type": "stream",
          "name": "stderr",
          "text": [
            "[nltk_data] Downloading package punkt to /root/nltk_data...\n",
            "[nltk_data]   Package punkt is already up-to-date!\n",
            "[nltk_data] Downloading package wordnet to /root/nltk_data...\n",
            "[nltk_data]   Package wordnet is already up-to-date!\n",
            "[nltk_data] Downloading package stopwords to /root/nltk_data...\n",
            "[nltk_data]   Package stopwords is already up-to-date!\n",
            "[nltk_data] Downloading package omw-1.4 to /root/nltk_data...\n",
            "[nltk_data]   Package omw-1.4 is already up-to-date!\n"
          ]
        },
        {
          "output_type": "execute_result",
          "data": {
            "text/plain": [
              "True"
            ]
          },
          "metadata": {},
          "execution_count": 70
        }
      ]
    },
    {
      "cell_type": "code",
      "source": [
        "from nltk import word_tokenize\n",
        "nltk.download('stopwords')"
      ],
      "metadata": {
        "colab": {
          "base_uri": "https://localhost:8080/"
        },
        "id": "fTt12lZRfYg3",
        "outputId": "4ac1da84-a6d4-479f-bc95-5814c1b50667"
      },
      "execution_count": null,
      "outputs": [
        {
          "output_type": "stream",
          "name": "stderr",
          "text": [
            "[nltk_data] Downloading package stopwords to /root/nltk_data...\n",
            "[nltk_data]   Package stopwords is already up-to-date!\n"
          ]
        },
        {
          "output_type": "execute_result",
          "data": {
            "text/plain": [
              "True"
            ]
          },
          "metadata": {},
          "execution_count": 71
        }
      ]
    },
    {
      "cell_type": "code",
      "source": [
        "from sklearn.feature_extraction.text import CountVectorizer, TfidfVectorizer\n",
        "from nltk.stem import WordNetLemmatizer"
      ],
      "metadata": {
        "id": "ZyjCj5HafatK"
      },
      "execution_count": null,
      "outputs": []
    },
    {
      "cell_type": "code",
      "source": [
        "stopwordsEN = stopwords.words('english')"
      ],
      "metadata": {
        "id": "yA_sSBdCfcs9"
      },
      "execution_count": null,
      "outputs": []
    },
    {
      "cell_type": "code",
      "source": [
        "lemma = WordNetLemmatizer()\n",
        "\n",
        "def lematizar(texto):\n",
        "  texto_lematizado= \"\"\n",
        "  for palabra in word_tokenize(texto):\n",
        "      texto_lematizado = texto_lematizado + \" \" + lemma.lemmatize(palabra)\n",
        "  return texto_lematizado\n",
        "\n",
        "def filtrar(texto):\n",
        "  caracteres_eliminar = \"./,``,’?!#$%&/()]_-[{}0123456789²'\"\n",
        "  \n",
        "  for caracter in caracteres_eliminar:\n",
        "    texto = texto.replace(caracter,\"\")\n",
        "    \n",
        "  return texto"
      ],
      "metadata": {
        "id": "mK_BbCN5fgcc"
      },
      "execution_count": null,
      "outputs": []
    },
    {
      "cell_type": "code",
      "source": [
        "vectorizer = CountVectorizer(lowercase=True, stop_words=stopwordsEN)\n",
        "textos = \"\"\n",
        "for line in x_test.lyric:\n",
        "    textos = textos + filtrar(lematizar(str(line)).lower().strip(',.!\"#$%/(=?)¡[]{}\"'))"
      ],
      "metadata": {
        "id": "fQ0RZ0oGfhP1"
      },
      "execution_count": null,
      "outputs": []
    },
    {
      "cell_type": "code",
      "source": [
        "matrix = vectorizer.fit_transform([textos])\n",
        "matrix"
      ],
      "metadata": {
        "colab": {
          "base_uri": "https://localhost:8080/"
        },
        "id": "DLL7bfogfjH7",
        "outputId": "c4613eab-9c23-4a78-fbe3-dde81845c1a6"
      },
      "execution_count": null,
      "outputs": [
        {
          "output_type": "execute_result",
          "data": {
            "text/plain": [
              "<1x13755 sparse matrix of type '<class 'numpy.int64'>'\n",
              "\twith 13755 stored elements in Compressed Sparse Row format>"
            ]
          },
          "metadata": {},
          "execution_count": 76
        }
      ]
    },
    {
      "cell_type": "code",
      "source": [
        "counts = pd.DataFrame(matrix.toarray(),\n",
        "                      columns=vectorizer.get_feature_names())\n",
        "counts"
      ],
      "metadata": {
        "colab": {
          "base_uri": "https://localhost:8080/"
        },
        "id": "-cAZglFtf4TB",
        "outputId": "8d984ed1-739b-4beb-cdb5-fdaff22abc33"
      },
      "execution_count": null,
      "outputs": [
        {
          "output_type": "stream",
          "name": "stderr",
          "text": [
            "/usr/local/lib/python3.7/dist-packages/sklearn/utils/deprecation.py:87: FutureWarning: Function get_feature_names is deprecated; get_feature_names is deprecated in 1.0 and will be removed in 1.2. Please use get_feature_names_out instead.\n",
            "  warnings.warn(msg, category=FutureWarning)\n"
          ]
        },
        {
          "output_type": "execute_result",
          "data": {
            "text/plain": [
              "   aaaaaaaaaaaaaaaaooooh  aaaaaaaaaaah  aah  aahh  aba  abandon  abandoned  \\\n",
              "0                      1             3    8    10    1       13          6   \n",
              "\n",
              "   abba  aberration  abide  ...  zonia  zoo  zooky  zoom  zoot  zu  zulu  \\\n",
              "0     2           1      6  ...      1    4      1     3     2   6     3   \n",
              "\n",
              "   zutto  às  ëround  \n",
              "0      8   2       2  \n",
              "\n",
              "[1 rows x 13755 columns]"
            ],
            "text/html": [
              "\n",
              "  <div id=\"df-36dde32a-e219-43e2-95c5-b1a2f9951d93\">\n",
              "    <div class=\"colab-df-container\">\n",
              "      <div>\n",
              "<style scoped>\n",
              "    .dataframe tbody tr th:only-of-type {\n",
              "        vertical-align: middle;\n",
              "    }\n",
              "\n",
              "    .dataframe tbody tr th {\n",
              "        vertical-align: top;\n",
              "    }\n",
              "\n",
              "    .dataframe thead th {\n",
              "        text-align: right;\n",
              "    }\n",
              "</style>\n",
              "<table border=\"1\" class=\"dataframe\">\n",
              "  <thead>\n",
              "    <tr style=\"text-align: right;\">\n",
              "      <th></th>\n",
              "      <th>aaaaaaaaaaaaaaaaooooh</th>\n",
              "      <th>aaaaaaaaaaah</th>\n",
              "      <th>aah</th>\n",
              "      <th>aahh</th>\n",
              "      <th>aba</th>\n",
              "      <th>abandon</th>\n",
              "      <th>abandoned</th>\n",
              "      <th>abba</th>\n",
              "      <th>aberration</th>\n",
              "      <th>abide</th>\n",
              "      <th>...</th>\n",
              "      <th>zonia</th>\n",
              "      <th>zoo</th>\n",
              "      <th>zooky</th>\n",
              "      <th>zoom</th>\n",
              "      <th>zoot</th>\n",
              "      <th>zu</th>\n",
              "      <th>zulu</th>\n",
              "      <th>zutto</th>\n",
              "      <th>às</th>\n",
              "      <th>ëround</th>\n",
              "    </tr>\n",
              "  </thead>\n",
              "  <tbody>\n",
              "    <tr>\n",
              "      <th>0</th>\n",
              "      <td>1</td>\n",
              "      <td>3</td>\n",
              "      <td>8</td>\n",
              "      <td>10</td>\n",
              "      <td>1</td>\n",
              "      <td>13</td>\n",
              "      <td>6</td>\n",
              "      <td>2</td>\n",
              "      <td>1</td>\n",
              "      <td>6</td>\n",
              "      <td>...</td>\n",
              "      <td>1</td>\n",
              "      <td>4</td>\n",
              "      <td>1</td>\n",
              "      <td>3</td>\n",
              "      <td>2</td>\n",
              "      <td>6</td>\n",
              "      <td>3</td>\n",
              "      <td>8</td>\n",
              "      <td>2</td>\n",
              "      <td>2</td>\n",
              "    </tr>\n",
              "  </tbody>\n",
              "</table>\n",
              "<p>1 rows × 13755 columns</p>\n",
              "</div>\n",
              "      <button class=\"colab-df-convert\" onclick=\"convertToInteractive('df-36dde32a-e219-43e2-95c5-b1a2f9951d93')\"\n",
              "              title=\"Convert this dataframe to an interactive table.\"\n",
              "              style=\"display:none;\">\n",
              "        \n",
              "  <svg xmlns=\"http://www.w3.org/2000/svg\" height=\"24px\"viewBox=\"0 0 24 24\"\n",
              "       width=\"24px\">\n",
              "    <path d=\"M0 0h24v24H0V0z\" fill=\"none\"/>\n",
              "    <path d=\"M18.56 5.44l.94 2.06.94-2.06 2.06-.94-2.06-.94-.94-2.06-.94 2.06-2.06.94zm-11 1L8.5 8.5l.94-2.06 2.06-.94-2.06-.94L8.5 2.5l-.94 2.06-2.06.94zm10 10l.94 2.06.94-2.06 2.06-.94-2.06-.94-.94-2.06-.94 2.06-2.06.94z\"/><path d=\"M17.41 7.96l-1.37-1.37c-.4-.4-.92-.59-1.43-.59-.52 0-1.04.2-1.43.59L10.3 9.45l-7.72 7.72c-.78.78-.78 2.05 0 2.83L4 21.41c.39.39.9.59 1.41.59.51 0 1.02-.2 1.41-.59l7.78-7.78 2.81-2.81c.8-.78.8-2.07 0-2.86zM5.41 20L4 18.59l7.72-7.72 1.47 1.35L5.41 20z\"/>\n",
              "  </svg>\n",
              "      </button>\n",
              "      \n",
              "  <style>\n",
              "    .colab-df-container {\n",
              "      display:flex;\n",
              "      flex-wrap:wrap;\n",
              "      gap: 12px;\n",
              "    }\n",
              "\n",
              "    .colab-df-convert {\n",
              "      background-color: #E8F0FE;\n",
              "      border: none;\n",
              "      border-radius: 50%;\n",
              "      cursor: pointer;\n",
              "      display: none;\n",
              "      fill: #1967D2;\n",
              "      height: 32px;\n",
              "      padding: 0 0 0 0;\n",
              "      width: 32px;\n",
              "    }\n",
              "\n",
              "    .colab-df-convert:hover {\n",
              "      background-color: #E2EBFA;\n",
              "      box-shadow: 0px 1px 2px rgba(60, 64, 67, 0.3), 0px 1px 3px 1px rgba(60, 64, 67, 0.15);\n",
              "      fill: #174EA6;\n",
              "    }\n",
              "\n",
              "    [theme=dark] .colab-df-convert {\n",
              "      background-color: #3B4455;\n",
              "      fill: #D2E3FC;\n",
              "    }\n",
              "\n",
              "    [theme=dark] .colab-df-convert:hover {\n",
              "      background-color: #434B5C;\n",
              "      box-shadow: 0px 1px 3px 1px rgba(0, 0, 0, 0.15);\n",
              "      filter: drop-shadow(0px 1px 2px rgba(0, 0, 0, 0.3));\n",
              "      fill: #FFFFFF;\n",
              "    }\n",
              "  </style>\n",
              "\n",
              "      <script>\n",
              "        const buttonEl =\n",
              "          document.querySelector('#df-36dde32a-e219-43e2-95c5-b1a2f9951d93 button.colab-df-convert');\n",
              "        buttonEl.style.display =\n",
              "          google.colab.kernel.accessAllowed ? 'block' : 'none';\n",
              "\n",
              "        async function convertToInteractive(key) {\n",
              "          const element = document.querySelector('#df-36dde32a-e219-43e2-95c5-b1a2f9951d93');\n",
              "          const dataTable =\n",
              "            await google.colab.kernel.invokeFunction('convertToInteractive',\n",
              "                                                     [key], {});\n",
              "          if (!dataTable) return;\n",
              "\n",
              "          const docLinkHtml = 'Like what you see? Visit the ' +\n",
              "            '<a target=\"_blank\" href=https://colab.research.google.com/notebooks/data_table.ipynb>data table notebook</a>'\n",
              "            + ' to learn more about interactive tables.';\n",
              "          element.innerHTML = '';\n",
              "          dataTable['output_type'] = 'display_data';\n",
              "          await google.colab.output.renderOutput(dataTable, element);\n",
              "          const docLink = document.createElement('div');\n",
              "          docLink.innerHTML = docLinkHtml;\n",
              "          element.appendChild(docLink);\n",
              "        }\n",
              "      </script>\n",
              "    </div>\n",
              "  </div>\n",
              "  "
            ]
          },
          "metadata": {},
          "execution_count": 77
        }
      ]
    },
    {
      "cell_type": "code",
      "source": [
        "palabras_freq = counts.T.sort_values(by=0, ascending=False).head(20)\n",
        "palabras_freq2 = palabras_freq[0].reset_index().rename(columns={\"index\": \"palabras\"})\n",
        "palabras_frecuentes = palabras_freq2['palabras'].tolist()\n",
        "palabras_frecuentes"
      ],
      "metadata": {
        "colab": {
          "base_uri": "https://localhost:8080/"
        },
        "id": "kH_jEVb3f5BR",
        "outputId": "7d38bc0f-00a0-4750-ea25-927ea91b8fba"
      },
      "execution_count": null,
      "outputs": [
        {
          "output_type": "execute_result",
          "data": {
            "text/plain": [
              "['nt',\n",
              " 'like',\n",
              " 'know',\n",
              " 'love',\n",
              " 'got',\n",
              " 'na',\n",
              " 'get',\n",
              " 'go',\n",
              " 'yeah',\n",
              " 'oh',\n",
              " 'time',\n",
              " 'never',\n",
              " 'want',\n",
              " 'wa',\n",
              " 'baby',\n",
              " 'come',\n",
              " 'let',\n",
              " 'ca',\n",
              " 'one',\n",
              " 'cause']"
            ]
          },
          "metadata": {},
          "execution_count": 78
        }
      ]
    },
    {
      "cell_type": "code",
      "source": [
        "for set_trabajo in sets_trabajo:\n",
        "  for palabra in palabras_frecuentes:\n",
        "    set_trabajo[str(palabra)] = set_trabajo['lyric'].map(lambda x: 1 if (str(palabra) in str(x)) else 0)"
      ],
      "metadata": {
        "id": "GJVvevCNf7bu"
      },
      "execution_count": null,
      "outputs": []
    },
    {
      "cell_type": "code",
      "source": [
        "x_train = x_train.reset_index().drop(['lyric'],axis=1)\n",
        "x_valid = x_valid.reset_index().drop(['lyric'],axis=1)\n",
        "x_test = x_test.reset_index().drop(['lyric'],axis=1)"
      ],
      "metadata": {
        "id": "gPFQkO81f-_W"
      },
      "execution_count": null,
      "outputs": []
    },
    {
      "cell_type": "markdown",
      "source": [
        "# One-hot encoding de variables categoricas"
      ],
      "metadata": {
        "id": "vm7vXyHFgCLF"
      }
    },
    {
      "cell_type": "code",
      "source": [
        "features_ohe = ['language','mode']"
      ],
      "metadata": {
        "id": "GRuYEvY1gA4w"
      },
      "execution_count": null,
      "outputs": []
    },
    {
      "cell_type": "code",
      "source": [
        "def cant_columns_num(x_set):\n",
        "  cant_columns_num = 0\n",
        "  for columna in x_set.columns:\n",
        "    if isinstance(columna, int):\n",
        "      cant_columns_num += 1\n",
        "  return cant_columns_num\n",
        "\n",
        "def renombrar(nombre_feature, x_set):\n",
        "  for i in range(cant_columns_num(x_set)):\n",
        "    x_set = x_set.rename(columns = {i: (nombre_feature + str(i))})\n",
        "  return x_set"
      ],
      "metadata": {
        "id": "PByDi-xugHQP"
      },
      "execution_count": null,
      "outputs": []
    },
    {
      "cell_type": "code",
      "source": [
        "for nombre_feature in features_ohe:\n",
        "  ohe = OneHotEncoder(drop='first', handle_unknown='ignore')\n",
        "  encoded = ohe.fit_transform(x_train[[nombre_feature]]).todense().astype(int)\n",
        "  encoded_valid = ohe.transform(x_valid[[nombre_feature]]).todense().astype(int)\n",
        "  encoded_test = ohe.transform(x_test[[nombre_feature]]).todense().astype(int)\n",
        "\n",
        "  x_train = x_train.reset_index().drop(['index', nombre_feature],axis=1).join(pd.DataFrame(encoded))\n",
        "  x_valid = x_valid.reset_index().drop(['index', nombre_feature],axis=1).join(pd.DataFrame(encoded_valid))\n",
        "  x_test = x_test.reset_index().drop(['index', nombre_feature],axis=1).join(pd.DataFrame(encoded_test))\n",
        "  \n",
        "  x_train = renombrar(nombre_feature,x_train)\n",
        "  x_valid = renombrar(nombre_feature,x_valid)\n",
        "  x_test = renombrar(nombre_feature,x_test)"
      ],
      "metadata": {
        "colab": {
          "base_uri": "https://localhost:8080/"
        },
        "id": "XD0s_yTUgHiJ",
        "outputId": "bcbe98ba-49f1-4bc1-d64d-2b634f7dda40"
      },
      "execution_count": null,
      "outputs": [
        {
          "output_type": "stream",
          "name": "stderr",
          "text": [
            "/usr/local/lib/python3.7/dist-packages/sklearn/preprocessing/_encoders.py:174: UserWarning: Found unknown categories in columns [0] during transform. These unknown categories will be encoded as all zeros\n",
            "  UserWarning,\n"
          ]
        }
      ]
    },
    {
      "cell_type": "code",
      "source": [
        "x_train.columns"
      ],
      "metadata": {
        "colab": {
          "base_uri": "https://localhost:8080/"
        },
        "id": "1C0T5X2HgMu6",
        "outputId": "4a79f8ef-c7a5-420c-8fd9-871d210331d2"
      },
      "execution_count": null,
      "outputs": [
        {
          "output_type": "execute_result",
          "data": {
            "text/plain": [
              "Index(['level_0', 'popularity', 'a_songs', 'a_popularity', 's-label',\n",
              "       'acousticness', 'danceability', 'duration_ms', 'energy',\n",
              "       'instrumentalness', 'key', 'liveness', 'loudness', 'speechiness',\n",
              "       'tempo', 'valence', 'nt', 'like', 'know', 'love', 'got', 'na', 'get',\n",
              "       'go', 'yeah', 'oh', 'time', 'never', 'want', 'wa', 'baby', 'come',\n",
              "       'let', 'ca', 'one', 'cause', 'language0', 'language1', 'language2',\n",
              "       'language3', 'language4', 'language5', 'language6', 'language7',\n",
              "       'language8', 'language9', 'mode0'],\n",
              "      dtype='object')"
            ]
          },
          "metadata": {},
          "execution_count": 84
        }
      ]
    },
    {
      "cell_type": "code",
      "source": [
        "ohe_genre= OneHotEncoder(drop='first', handle_unknown='ignore')\n",
        "encoded_genre = ohe_genre.fit_transform(pd.DataFrame(y_train)).todense().astype(int)\n",
        "encoded_genre_valid = ohe_genre.transform(pd.DataFrame(y_valid)).todense().astype(int)\n",
        "encoded_genre_test = ohe_genre.transform(pd.DataFrame(y_test)).todense().astype(int)\n",
        "\n",
        "y_train2 = y_train.reset_index().drop(['index', 'genre'],axis=1).join(pd.DataFrame(encoded_genre))\n",
        "y_valid2 = y_valid.reset_index().drop(['index', 'genre'],axis=1).join(pd.DataFrame(encoded_genre_valid))\n",
        "y_test2 = y_test.reset_index().drop(['index', 'genre'],axis=1).join(pd.DataFrame(encoded_genre_test))"
      ],
      "metadata": {
        "id": "9mwWjbxHgUFO"
      },
      "execution_count": null,
      "outputs": []
    },
    {
      "cell_type": "markdown",
      "source": [
        "# Mean Encoding"
      ],
      "metadata": {
        "id": "R5LfhzvLgXtW"
      }
    },
    {
      "cell_type": "code",
      "source": [
        "key_mode = x_train.loc[:,[\"mode0\", 'key']].groupby(['key']).mean().sort_values(by=\"mode0\",ascending=False).reset_index()\n",
        "key_mode"
      ],
      "metadata": {
        "colab": {
          "base_uri": "https://localhost:8080/",
          "height": 426
        },
        "id": "-dWSB40ygVPT",
        "outputId": "548cd238-61b4-4967-9d91-57b5b97dc74f"
      },
      "execution_count": null,
      "outputs": [
        {
          "output_type": "execute_result",
          "data": {
            "text/plain": [
              "   key     mode0\n",
              "0    B  0.512075\n",
              "1   A#  0.489946\n",
              "2    E  0.487310\n",
              "3   F#  0.483851\n",
              "4    F  0.419652\n",
              "5   D#  0.331558\n",
              "6    A  0.320377\n",
              "7   C#  0.300000\n",
              "8    D  0.202594\n",
              "9   G#  0.198119\n",
              "10   G  0.182475\n",
              "11   C  0.154978"
            ],
            "text/html": [
              "\n",
              "  <div id=\"df-4b02896a-6d0b-499c-9902-72baac6fa2a0\">\n",
              "    <div class=\"colab-df-container\">\n",
              "      <div>\n",
              "<style scoped>\n",
              "    .dataframe tbody tr th:only-of-type {\n",
              "        vertical-align: middle;\n",
              "    }\n",
              "\n",
              "    .dataframe tbody tr th {\n",
              "        vertical-align: top;\n",
              "    }\n",
              "\n",
              "    .dataframe thead th {\n",
              "        text-align: right;\n",
              "    }\n",
              "</style>\n",
              "<table border=\"1\" class=\"dataframe\">\n",
              "  <thead>\n",
              "    <tr style=\"text-align: right;\">\n",
              "      <th></th>\n",
              "      <th>key</th>\n",
              "      <th>mode0</th>\n",
              "    </tr>\n",
              "  </thead>\n",
              "  <tbody>\n",
              "    <tr>\n",
              "      <th>0</th>\n",
              "      <td>B</td>\n",
              "      <td>0.512075</td>\n",
              "    </tr>\n",
              "    <tr>\n",
              "      <th>1</th>\n",
              "      <td>A#</td>\n",
              "      <td>0.489946</td>\n",
              "    </tr>\n",
              "    <tr>\n",
              "      <th>2</th>\n",
              "      <td>E</td>\n",
              "      <td>0.487310</td>\n",
              "    </tr>\n",
              "    <tr>\n",
              "      <th>3</th>\n",
              "      <td>F#</td>\n",
              "      <td>0.483851</td>\n",
              "    </tr>\n",
              "    <tr>\n",
              "      <th>4</th>\n",
              "      <td>F</td>\n",
              "      <td>0.419652</td>\n",
              "    </tr>\n",
              "    <tr>\n",
              "      <th>5</th>\n",
              "      <td>D#</td>\n",
              "      <td>0.331558</td>\n",
              "    </tr>\n",
              "    <tr>\n",
              "      <th>6</th>\n",
              "      <td>A</td>\n",
              "      <td>0.320377</td>\n",
              "    </tr>\n",
              "    <tr>\n",
              "      <th>7</th>\n",
              "      <td>C#</td>\n",
              "      <td>0.300000</td>\n",
              "    </tr>\n",
              "    <tr>\n",
              "      <th>8</th>\n",
              "      <td>D</td>\n",
              "      <td>0.202594</td>\n",
              "    </tr>\n",
              "    <tr>\n",
              "      <th>9</th>\n",
              "      <td>G#</td>\n",
              "      <td>0.198119</td>\n",
              "    </tr>\n",
              "    <tr>\n",
              "      <th>10</th>\n",
              "      <td>G</td>\n",
              "      <td>0.182475</td>\n",
              "    </tr>\n",
              "    <tr>\n",
              "      <th>11</th>\n",
              "      <td>C</td>\n",
              "      <td>0.154978</td>\n",
              "    </tr>\n",
              "  </tbody>\n",
              "</table>\n",
              "</div>\n",
              "      <button class=\"colab-df-convert\" onclick=\"convertToInteractive('df-4b02896a-6d0b-499c-9902-72baac6fa2a0')\"\n",
              "              title=\"Convert this dataframe to an interactive table.\"\n",
              "              style=\"display:none;\">\n",
              "        \n",
              "  <svg xmlns=\"http://www.w3.org/2000/svg\" height=\"24px\"viewBox=\"0 0 24 24\"\n",
              "       width=\"24px\">\n",
              "    <path d=\"M0 0h24v24H0V0z\" fill=\"none\"/>\n",
              "    <path d=\"M18.56 5.44l.94 2.06.94-2.06 2.06-.94-2.06-.94-.94-2.06-.94 2.06-2.06.94zm-11 1L8.5 8.5l.94-2.06 2.06-.94-2.06-.94L8.5 2.5l-.94 2.06-2.06.94zm10 10l.94 2.06.94-2.06 2.06-.94-2.06-.94-.94-2.06-.94 2.06-2.06.94z\"/><path d=\"M17.41 7.96l-1.37-1.37c-.4-.4-.92-.59-1.43-.59-.52 0-1.04.2-1.43.59L10.3 9.45l-7.72 7.72c-.78.78-.78 2.05 0 2.83L4 21.41c.39.39.9.59 1.41.59.51 0 1.02-.2 1.41-.59l7.78-7.78 2.81-2.81c.8-.78.8-2.07 0-2.86zM5.41 20L4 18.59l7.72-7.72 1.47 1.35L5.41 20z\"/>\n",
              "  </svg>\n",
              "      </button>\n",
              "      \n",
              "  <style>\n",
              "    .colab-df-container {\n",
              "      display:flex;\n",
              "      flex-wrap:wrap;\n",
              "      gap: 12px;\n",
              "    }\n",
              "\n",
              "    .colab-df-convert {\n",
              "      background-color: #E8F0FE;\n",
              "      border: none;\n",
              "      border-radius: 50%;\n",
              "      cursor: pointer;\n",
              "      display: none;\n",
              "      fill: #1967D2;\n",
              "      height: 32px;\n",
              "      padding: 0 0 0 0;\n",
              "      width: 32px;\n",
              "    }\n",
              "\n",
              "    .colab-df-convert:hover {\n",
              "      background-color: #E2EBFA;\n",
              "      box-shadow: 0px 1px 2px rgba(60, 64, 67, 0.3), 0px 1px 3px 1px rgba(60, 64, 67, 0.15);\n",
              "      fill: #174EA6;\n",
              "    }\n",
              "\n",
              "    [theme=dark] .colab-df-convert {\n",
              "      background-color: #3B4455;\n",
              "      fill: #D2E3FC;\n",
              "    }\n",
              "\n",
              "    [theme=dark] .colab-df-convert:hover {\n",
              "      background-color: #434B5C;\n",
              "      box-shadow: 0px 1px 3px 1px rgba(0, 0, 0, 0.15);\n",
              "      filter: drop-shadow(0px 1px 2px rgba(0, 0, 0, 0.3));\n",
              "      fill: #FFFFFF;\n",
              "    }\n",
              "  </style>\n",
              "\n",
              "      <script>\n",
              "        const buttonEl =\n",
              "          document.querySelector('#df-4b02896a-6d0b-499c-9902-72baac6fa2a0 button.colab-df-convert');\n",
              "        buttonEl.style.display =\n",
              "          google.colab.kernel.accessAllowed ? 'block' : 'none';\n",
              "\n",
              "        async function convertToInteractive(key) {\n",
              "          const element = document.querySelector('#df-4b02896a-6d0b-499c-9902-72baac6fa2a0');\n",
              "          const dataTable =\n",
              "            await google.colab.kernel.invokeFunction('convertToInteractive',\n",
              "                                                     [key], {});\n",
              "          if (!dataTable) return;\n",
              "\n",
              "          const docLinkHtml = 'Like what you see? Visit the ' +\n",
              "            '<a target=\"_blank\" href=https://colab.research.google.com/notebooks/data_table.ipynb>data table notebook</a>'\n",
              "            + ' to learn more about interactive tables.';\n",
              "          element.innerHTML = '';\n",
              "          dataTable['output_type'] = 'display_data';\n",
              "          await google.colab.output.renderOutput(dataTable, element);\n",
              "          const docLink = document.createElement('div');\n",
              "          docLink.innerHTML = docLinkHtml;\n",
              "          element.appendChild(docLink);\n",
              "        }\n",
              "      </script>\n",
              "    </div>\n",
              "  </div>\n",
              "  "
            ]
          },
          "metadata": {},
          "execution_count": 86
        }
      ]
    },
    {
      "cell_type": "code",
      "source": [
        "set_features = [x_train, x_valid, x_test]"
      ],
      "metadata": {
        "id": "zrgno8REgckD"
      },
      "execution_count": null,
      "outputs": []
    },
    {
      "cell_type": "code",
      "source": [
        "def mean_encoding(key):\n",
        "  return key_mode[key_mode['key'].map(lambda x: x == key)]['mode0'].values[0]"
      ],
      "metadata": {
        "id": "NWuHU3c1ghc1"
      },
      "execution_count": null,
      "outputs": []
    },
    {
      "cell_type": "code",
      "source": [
        "for features in set_features:\n",
        "  features['key'] = features['key'].map(lambda x: mean_encoding(x))"
      ],
      "metadata": {
        "id": "8JV6CXlQgjfj"
      },
      "execution_count": null,
      "outputs": []
    },
    {
      "cell_type": "code",
      "source": [
        "x_train['key']"
      ],
      "metadata": {
        "colab": {
          "base_uri": "https://localhost:8080/"
        },
        "id": "OzHEZCM8gnVL",
        "outputId": "70c10840-ddde-438a-fbaa-5067bec8fba0"
      },
      "execution_count": null,
      "outputs": [
        {
          "output_type": "execute_result",
          "data": {
            "text/plain": [
              "0        0.512075\n",
              "1        0.512075\n",
              "2        0.512075\n",
              "3        0.512075\n",
              "4        0.512075\n",
              "           ...   \n",
              "25237    0.487310\n",
              "25238    0.487310\n",
              "25239    0.483851\n",
              "25240    0.154978\n",
              "25241    0.419652\n",
              "Name: key, Length: 25242, dtype: float64"
            ]
          },
          "metadata": {},
          "execution_count": 90
        }
      ]
    },
    {
      "cell_type": "code",
      "source": [
        "x_train = x_train.reset_index().drop(['index', 'level_0'],axis=1)\n",
        "x_valid = x_valid.reset_index().drop(['index', 'level_0'],axis=1)\n",
        "x_test = x_test.reset_index().drop(['index', 'level_0'],axis=1)"
      ],
      "metadata": {
        "id": "-zW0VvP-gpu5"
      },
      "execution_count": null,
      "outputs": []
    },
    {
      "cell_type": "markdown",
      "source": [
        "## XGBoost"
      ],
      "metadata": {
        "id": "UZlQl2z7lbHe"
      }
    },
    {
      "cell_type": "code",
      "source": [
        "from sklearn.metrics import classification_report\n",
        "from sklearn.metrics import top_k_accuracy_score\n",
        "from sklearn.model_selection import RepeatedStratifiedKFold\n",
        "from sklearn.model_selection import RandomizedSearchCV\n",
        "from scipy.stats import uniform"
      ],
      "metadata": {
        "id": "fr2JicVVlhIM"
      },
      "execution_count": null,
      "outputs": []
    },
    {
      "cell_type": "code",
      "source": [
        "from xgboost import XGBClassifier\n",
        "from sklearn.model_selection import cross_val_score"
      ],
      "metadata": {
        "id": "KWNZSCvwllLt"
      },
      "execution_count": null,
      "outputs": []
    },
    {
      "cell_type": "code",
      "source": [
        "model2 = XGBClassifier(criterion = 'squared_error', random_state= 8)"
      ],
      "metadata": {
        "id": "a3yK3wJzloCI"
      },
      "execution_count": null,
      "outputs": []
    },
    {
      "cell_type": "code",
      "source": [
        "model2.fit(x_train, y_train)"
      ],
      "metadata": {
        "id": "YiHZdB9glq3M",
        "colab": {
          "base_uri": "https://localhost:8080/"
        },
        "outputId": "c09f5e03-d477-4882-e63e-14dbb4606fa5"
      },
      "execution_count": null,
      "outputs": [
        {
          "output_type": "execute_result",
          "data": {
            "text/plain": [
              "XGBClassifier(criterion='squared_error', objective='multi:softprob',\n",
              "              random_state=8)"
            ]
          },
          "metadata": {},
          "execution_count": 95
        }
      ]
    },
    {
      "cell_type": "code",
      "source": [
        "# define search space\n",
        "space = {}\n",
        "space['criterion'] = ['squared_error', 'friedman_mse']"
      ],
      "metadata": {
        "id": "SxK7bRAzls-o"
      },
      "execution_count": null,
      "outputs": []
    },
    {
      "cell_type": "code",
      "source": [
        "search = RandomizedSearchCV(model2, space, n_iter=2, scoring='accuracy', n_jobs= 1, cv=2, random_state= 8, verbose =10)"
      ],
      "metadata": {
        "id": "xlyFEr-glugr"
      },
      "execution_count": null,
      "outputs": []
    },
    {
      "cell_type": "code",
      "source": [
        "# execute search\n",
        "result = search.fit(x_train, y_train)\n",
        "# summarize result\n",
        "print('Best Score: %s' % result.best_score_)\n",
        "print('Best Hyperparameters: %s' % result.best_params_)"
      ],
      "metadata": {
        "id": "Pyj_hl1SlxUy",
        "colab": {
          "base_uri": "https://localhost:8080/"
        },
        "outputId": "a7c1ff18-317f-47d2-dd0d-03857e246125"
      },
      "execution_count": null,
      "outputs": [
        {
          "output_type": "stream",
          "name": "stdout",
          "text": [
            "Fitting 2 folds for each of 2 candidates, totalling 4 fits\n",
            "[CV 1/2; 1/2] START criterion=squared_error.....................................\n",
            "[CV 1/2; 1/2] END ......criterion=squared_error;, score=0.387 total time=  42.8s\n",
            "[CV 2/2; 1/2] START criterion=squared_error.....................................\n",
            "[CV 2/2; 1/2] END ......criterion=squared_error;, score=0.348 total time=  43.3s\n",
            "[CV 1/2; 2/2] START criterion=friedman_mse......................................\n",
            "[CV 1/2; 2/2] END .......criterion=friedman_mse;, score=0.387 total time=  43.1s\n",
            "[CV 2/2; 2/2] START criterion=friedman_mse......................................\n",
            "[CV 2/2; 2/2] END .......criterion=friedman_mse;, score=0.348 total time=  43.9s\n",
            "Best Score: 0.3676412328658585\n",
            "Best Hyperparameters: {'criterion': 'squared_error'}\n"
          ]
        }
      ]
    },
    {
      "cell_type": "code",
      "source": [
        "top_k_accuracy_score(y_valid, model2.predict_proba(x_valid), k=2, labels = model2.classes_)"
      ],
      "metadata": {
        "id": "q1xmRQB1lzkA",
        "colab": {
          "base_uri": "https://localhost:8080/"
        },
        "outputId": "daf0caa2-2984-498c-cb71-37e2defcb385"
      },
      "execution_count": null,
      "outputs": [
        {
          "output_type": "execute_result",
          "data": {
            "text/plain": [
              "0.5145741735873636"
            ]
          },
          "metadata": {},
          "execution_count": 99
        }
      ]
    },
    {
      "cell_type": "code",
      "source": [
        "model2.feature_importances_"
      ],
      "metadata": {
        "id": "0Iy4ZQu2mBUc",
        "colab": {
          "base_uri": "https://localhost:8080/"
        },
        "outputId": "3bff6f88-d11b-402c-c846-5aab33b61b77"
      },
      "execution_count": null,
      "outputs": [
        {
          "output_type": "execute_result",
          "data": {
            "text/plain": [
              "array([0.07354306, 0.02746116, 0.03724257, 0.0056091 , 0.03999484,\n",
              "       0.02328701, 0.02042293, 0.042092  , 0.02869448, 0.00297652,\n",
              "       0.00297111, 0.02745401, 0.0456745 , 0.0060045 , 0.01251139,\n",
              "       0.00958427, 0.03323746, 0.01414283, 0.02212904, 0.02822384,\n",
              "       0.01241139, 0.05374084, 0.02314712, 0.02179286, 0.02190975,\n",
              "       0.01008213, 0.00342545, 0.00492957, 0.01215132, 0.04237849,\n",
              "       0.00678233, 0.01284242, 0.00975294, 0.00813112, 0.01470057,\n",
              "       0.        , 0.01673773, 0.1284536 , 0.        , 0.        ,\n",
              "       0.        , 0.01311692, 0.02348051, 0.02437901, 0.        ,\n",
              "       0.03239731], dtype=float32)"
            ]
          },
          "metadata": {},
          "execution_count": 100
        }
      ]
    },
    {
      "cell_type": "markdown",
      "source": [
        "El mejor modelo es xboost con 0.51457 de top-2 acuracy"
      ],
      "metadata": {
        "id": "PF_Y_fIvriEF"
      }
    },
    {
      "cell_type": "code",
      "source": [
        "top_k_accuracy_score(y_test, model2.predict_proba(x_test), k=2, labels = model2.classes_)"
      ],
      "metadata": {
        "colab": {
          "base_uri": "https://localhost:8080/"
        },
        "id": "9Z_gbu6Irqpn",
        "outputId": "c4d884ba-aec1-432e-9ad7-d057be1ab004"
      },
      "execution_count": null,
      "outputs": [
        {
          "output_type": "execute_result",
          "data": {
            "text/plain": [
              "0.5016926201760324"
            ]
          },
          "metadata": {},
          "execution_count": 101
        }
      ]
    },
    {
      "cell_type": "markdown",
      "source": [
        "El top-acuracy 2 para test es 0.50169"
      ],
      "metadata": {
        "id": "GoSkEbQ0t4C9"
      }
    },
    {
      "cell_type": "code",
      "source": [
        "prediciones = model2.predict_proba(x_train)"
      ],
      "metadata": {
        "id": "GQ-1sdJ9ujCz"
      },
      "execution_count": null,
      "outputs": []
    },
    {
      "cell_type": "code",
      "source": [
        "x_train2 = x_train.copy()"
      ],
      "metadata": {
        "id": "c5LBVeekuk5L"
      },
      "execution_count": null,
      "outputs": []
    },
    {
      "cell_type": "code",
      "source": [
        "i = 0\n",
        "for genero in model2.classes_:\n",
        "  x_train2[genero] = prediciones[:,i]\n",
        "  i+= 1"
      ],
      "metadata": {
        "id": "JyynAZQ-unJB"
      },
      "execution_count": null,
      "outputs": []
    },
    {
      "cell_type": "code",
      "source": [
        "x_train2"
      ],
      "metadata": {
        "colab": {
          "base_uri": "https://localhost:8080/",
          "height": 505
        },
        "id": "6d3guqNSupmx",
        "outputId": "f0fac0c5-2492-473a-bb4d-54c576ca136d"
      },
      "execution_count": null,
      "outputs": [
        {
          "output_type": "execute_result",
          "data": {
            "text/plain": [
              "       popularity  a_songs  a_popularity   s-label  acousticness  \\\n",
              "0              79    276.0         205.5  0.490309        0.2720   \n",
              "1              80    276.0         205.5  0.490309        0.2720   \n",
              "2              80    276.0         205.5  0.490309        0.2720   \n",
              "3              71    276.0         205.5  0.490309        0.0296   \n",
              "4              71    276.0         205.5  0.490309        0.0296   \n",
              "...           ...      ...           ...       ...           ...   \n",
              "25237          19     89.0           1.0  0.748000        0.6120   \n",
              "25238          34     89.0           1.0  0.868000        0.8890   \n",
              "25239          18     89.0           1.0  0.793000        0.7630   \n",
              "25240          28     89.0           1.0  0.738000        0.8040   \n",
              "25241          39     17.0           0.0  0.648000        0.7200   \n",
              "\n",
              "       danceability  duration_ms  energy  instrumentalness       key  ...  \\\n",
              "0             0.508       261640   0.720          0.000000  0.512075  ...   \n",
              "1             0.508       261640   0.720          0.000000  0.512075  ...   \n",
              "2             0.508       261640   0.720          0.000000  0.512075  ...   \n",
              "3             0.412       319467   0.441          0.072600  0.512075  ...   \n",
              "4             0.412       319467   0.441          0.072600  0.512075  ...   \n",
              "...             ...          ...     ...               ...       ...  ...   \n",
              "25237         0.616       190733   0.822          0.000003  0.487310  ...   \n",
              "25238         0.457       230200   0.369          0.011100  0.487310  ...   \n",
              "25239         0.717       275640   0.566          0.812000  0.483851  ...   \n",
              "25240         0.633       204373   0.553          0.000866  0.154978  ...   \n",
              "25241         0.612       186080   0.526          0.021000  0.419652  ...   \n",
              "\n",
              "            Pop       R&B       Rap    Reggae  Reggaeton      Rock       Ska  \\\n",
              "0      0.553333  0.177568  0.008410  0.000717   0.000178  0.010977  0.000398   \n",
              "1      0.553333  0.177568  0.008410  0.000717   0.000178  0.010977  0.000398   \n",
              "2      0.553333  0.177568  0.008410  0.000717   0.000178  0.010977  0.000398   \n",
              "3      0.438401  0.284703  0.012876  0.000507   0.000476  0.005177  0.000578   \n",
              "4      0.438401  0.284703  0.012876  0.000507   0.000476  0.005177  0.000578   \n",
              "...         ...       ...       ...       ...        ...       ...       ...   \n",
              "25237  0.000687  0.006196  0.001212  0.151739   0.001696  0.010597  0.163120   \n",
              "25238  0.000259  0.001079  0.000415  0.011510   0.002137  0.002107  0.004187   \n",
              "25239  0.000212  0.001937  0.000380  0.060163   0.004647  0.003574  0.007282   \n",
              "25240  0.000457  0.003131  0.000789  0.095290   0.009663  0.003000  0.024867   \n",
              "25241  0.000288  0.003504  0.000956  0.020774   0.000434  0.002075  0.003606   \n",
              "\n",
              "           Soul  Soundtrack     World  \n",
              "0      0.011000    0.000134  0.000196  \n",
              "1      0.011000    0.000134  0.000196  \n",
              "2      0.011000    0.000134  0.000196  \n",
              "3      0.012395    0.000174  0.000328  \n",
              "4      0.012395    0.000174  0.000328  \n",
              "...         ...         ...       ...  \n",
              "25237  0.024430    0.000374  0.396969  \n",
              "25238  0.025857    0.000185  0.640679  \n",
              "25239  0.007125    0.000260  0.469107  \n",
              "25240  0.022123    0.000259  0.529096  \n",
              "25241  0.142649    0.000160  0.009012  \n",
              "\n",
              "[25242 rows x 71 columns]"
            ],
            "text/html": [
              "\n",
              "  <div id=\"df-ea6bc7b2-a535-415b-905b-99c718d9f1d8\">\n",
              "    <div class=\"colab-df-container\">\n",
              "      <div>\n",
              "<style scoped>\n",
              "    .dataframe tbody tr th:only-of-type {\n",
              "        vertical-align: middle;\n",
              "    }\n",
              "\n",
              "    .dataframe tbody tr th {\n",
              "        vertical-align: top;\n",
              "    }\n",
              "\n",
              "    .dataframe thead th {\n",
              "        text-align: right;\n",
              "    }\n",
              "</style>\n",
              "<table border=\"1\" class=\"dataframe\">\n",
              "  <thead>\n",
              "    <tr style=\"text-align: right;\">\n",
              "      <th></th>\n",
              "      <th>popularity</th>\n",
              "      <th>a_songs</th>\n",
              "      <th>a_popularity</th>\n",
              "      <th>s-label</th>\n",
              "      <th>acousticness</th>\n",
              "      <th>danceability</th>\n",
              "      <th>duration_ms</th>\n",
              "      <th>energy</th>\n",
              "      <th>instrumentalness</th>\n",
              "      <th>key</th>\n",
              "      <th>...</th>\n",
              "      <th>Pop</th>\n",
              "      <th>R&amp;B</th>\n",
              "      <th>Rap</th>\n",
              "      <th>Reggae</th>\n",
              "      <th>Reggaeton</th>\n",
              "      <th>Rock</th>\n",
              "      <th>Ska</th>\n",
              "      <th>Soul</th>\n",
              "      <th>Soundtrack</th>\n",
              "      <th>World</th>\n",
              "    </tr>\n",
              "  </thead>\n",
              "  <tbody>\n",
              "    <tr>\n",
              "      <th>0</th>\n",
              "      <td>79</td>\n",
              "      <td>276.0</td>\n",
              "      <td>205.5</td>\n",
              "      <td>0.490309</td>\n",
              "      <td>0.2720</td>\n",
              "      <td>0.508</td>\n",
              "      <td>261640</td>\n",
              "      <td>0.720</td>\n",
              "      <td>0.000000</td>\n",
              "      <td>0.512075</td>\n",
              "      <td>...</td>\n",
              "      <td>0.553333</td>\n",
              "      <td>0.177568</td>\n",
              "      <td>0.008410</td>\n",
              "      <td>0.000717</td>\n",
              "      <td>0.000178</td>\n",
              "      <td>0.010977</td>\n",
              "      <td>0.000398</td>\n",
              "      <td>0.011000</td>\n",
              "      <td>0.000134</td>\n",
              "      <td>0.000196</td>\n",
              "    </tr>\n",
              "    <tr>\n",
              "      <th>1</th>\n",
              "      <td>80</td>\n",
              "      <td>276.0</td>\n",
              "      <td>205.5</td>\n",
              "      <td>0.490309</td>\n",
              "      <td>0.2720</td>\n",
              "      <td>0.508</td>\n",
              "      <td>261640</td>\n",
              "      <td>0.720</td>\n",
              "      <td>0.000000</td>\n",
              "      <td>0.512075</td>\n",
              "      <td>...</td>\n",
              "      <td>0.553333</td>\n",
              "      <td>0.177568</td>\n",
              "      <td>0.008410</td>\n",
              "      <td>0.000717</td>\n",
              "      <td>0.000178</td>\n",
              "      <td>0.010977</td>\n",
              "      <td>0.000398</td>\n",
              "      <td>0.011000</td>\n",
              "      <td>0.000134</td>\n",
              "      <td>0.000196</td>\n",
              "    </tr>\n",
              "    <tr>\n",
              "      <th>2</th>\n",
              "      <td>80</td>\n",
              "      <td>276.0</td>\n",
              "      <td>205.5</td>\n",
              "      <td>0.490309</td>\n",
              "      <td>0.2720</td>\n",
              "      <td>0.508</td>\n",
              "      <td>261640</td>\n",
              "      <td>0.720</td>\n",
              "      <td>0.000000</td>\n",
              "      <td>0.512075</td>\n",
              "      <td>...</td>\n",
              "      <td>0.553333</td>\n",
              "      <td>0.177568</td>\n",
              "      <td>0.008410</td>\n",
              "      <td>0.000717</td>\n",
              "      <td>0.000178</td>\n",
              "      <td>0.010977</td>\n",
              "      <td>0.000398</td>\n",
              "      <td>0.011000</td>\n",
              "      <td>0.000134</td>\n",
              "      <td>0.000196</td>\n",
              "    </tr>\n",
              "    <tr>\n",
              "      <th>3</th>\n",
              "      <td>71</td>\n",
              "      <td>276.0</td>\n",
              "      <td>205.5</td>\n",
              "      <td>0.490309</td>\n",
              "      <td>0.0296</td>\n",
              "      <td>0.412</td>\n",
              "      <td>319467</td>\n",
              "      <td>0.441</td>\n",
              "      <td>0.072600</td>\n",
              "      <td>0.512075</td>\n",
              "      <td>...</td>\n",
              "      <td>0.438401</td>\n",
              "      <td>0.284703</td>\n",
              "      <td>0.012876</td>\n",
              "      <td>0.000507</td>\n",
              "      <td>0.000476</td>\n",
              "      <td>0.005177</td>\n",
              "      <td>0.000578</td>\n",
              "      <td>0.012395</td>\n",
              "      <td>0.000174</td>\n",
              "      <td>0.000328</td>\n",
              "    </tr>\n",
              "    <tr>\n",
              "      <th>4</th>\n",
              "      <td>71</td>\n",
              "      <td>276.0</td>\n",
              "      <td>205.5</td>\n",
              "      <td>0.490309</td>\n",
              "      <td>0.0296</td>\n",
              "      <td>0.412</td>\n",
              "      <td>319467</td>\n",
              "      <td>0.441</td>\n",
              "      <td>0.072600</td>\n",
              "      <td>0.512075</td>\n",
              "      <td>...</td>\n",
              "      <td>0.438401</td>\n",
              "      <td>0.284703</td>\n",
              "      <td>0.012876</td>\n",
              "      <td>0.000507</td>\n",
              "      <td>0.000476</td>\n",
              "      <td>0.005177</td>\n",
              "      <td>0.000578</td>\n",
              "      <td>0.012395</td>\n",
              "      <td>0.000174</td>\n",
              "      <td>0.000328</td>\n",
              "    </tr>\n",
              "    <tr>\n",
              "      <th>...</th>\n",
              "      <td>...</td>\n",
              "      <td>...</td>\n",
              "      <td>...</td>\n",
              "      <td>...</td>\n",
              "      <td>...</td>\n",
              "      <td>...</td>\n",
              "      <td>...</td>\n",
              "      <td>...</td>\n",
              "      <td>...</td>\n",
              "      <td>...</td>\n",
              "      <td>...</td>\n",
              "      <td>...</td>\n",
              "      <td>...</td>\n",
              "      <td>...</td>\n",
              "      <td>...</td>\n",
              "      <td>...</td>\n",
              "      <td>...</td>\n",
              "      <td>...</td>\n",
              "      <td>...</td>\n",
              "      <td>...</td>\n",
              "      <td>...</td>\n",
              "    </tr>\n",
              "    <tr>\n",
              "      <th>25237</th>\n",
              "      <td>19</td>\n",
              "      <td>89.0</td>\n",
              "      <td>1.0</td>\n",
              "      <td>0.748000</td>\n",
              "      <td>0.6120</td>\n",
              "      <td>0.616</td>\n",
              "      <td>190733</td>\n",
              "      <td>0.822</td>\n",
              "      <td>0.000003</td>\n",
              "      <td>0.487310</td>\n",
              "      <td>...</td>\n",
              "      <td>0.000687</td>\n",
              "      <td>0.006196</td>\n",
              "      <td>0.001212</td>\n",
              "      <td>0.151739</td>\n",
              "      <td>0.001696</td>\n",
              "      <td>0.010597</td>\n",
              "      <td>0.163120</td>\n",
              "      <td>0.024430</td>\n",
              "      <td>0.000374</td>\n",
              "      <td>0.396969</td>\n",
              "    </tr>\n",
              "    <tr>\n",
              "      <th>25238</th>\n",
              "      <td>34</td>\n",
              "      <td>89.0</td>\n",
              "      <td>1.0</td>\n",
              "      <td>0.868000</td>\n",
              "      <td>0.8890</td>\n",
              "      <td>0.457</td>\n",
              "      <td>230200</td>\n",
              "      <td>0.369</td>\n",
              "      <td>0.011100</td>\n",
              "      <td>0.487310</td>\n",
              "      <td>...</td>\n",
              "      <td>0.000259</td>\n",
              "      <td>0.001079</td>\n",
              "      <td>0.000415</td>\n",
              "      <td>0.011510</td>\n",
              "      <td>0.002137</td>\n",
              "      <td>0.002107</td>\n",
              "      <td>0.004187</td>\n",
              "      <td>0.025857</td>\n",
              "      <td>0.000185</td>\n",
              "      <td>0.640679</td>\n",
              "    </tr>\n",
              "    <tr>\n",
              "      <th>25239</th>\n",
              "      <td>18</td>\n",
              "      <td>89.0</td>\n",
              "      <td>1.0</td>\n",
              "      <td>0.793000</td>\n",
              "      <td>0.7630</td>\n",
              "      <td>0.717</td>\n",
              "      <td>275640</td>\n",
              "      <td>0.566</td>\n",
              "      <td>0.812000</td>\n",
              "      <td>0.483851</td>\n",
              "      <td>...</td>\n",
              "      <td>0.000212</td>\n",
              "      <td>0.001937</td>\n",
              "      <td>0.000380</td>\n",
              "      <td>0.060163</td>\n",
              "      <td>0.004647</td>\n",
              "      <td>0.003574</td>\n",
              "      <td>0.007282</td>\n",
              "      <td>0.007125</td>\n",
              "      <td>0.000260</td>\n",
              "      <td>0.469107</td>\n",
              "    </tr>\n",
              "    <tr>\n",
              "      <th>25240</th>\n",
              "      <td>28</td>\n",
              "      <td>89.0</td>\n",
              "      <td>1.0</td>\n",
              "      <td>0.738000</td>\n",
              "      <td>0.8040</td>\n",
              "      <td>0.633</td>\n",
              "      <td>204373</td>\n",
              "      <td>0.553</td>\n",
              "      <td>0.000866</td>\n",
              "      <td>0.154978</td>\n",
              "      <td>...</td>\n",
              "      <td>0.000457</td>\n",
              "      <td>0.003131</td>\n",
              "      <td>0.000789</td>\n",
              "      <td>0.095290</td>\n",
              "      <td>0.009663</td>\n",
              "      <td>0.003000</td>\n",
              "      <td>0.024867</td>\n",
              "      <td>0.022123</td>\n",
              "      <td>0.000259</td>\n",
              "      <td>0.529096</td>\n",
              "    </tr>\n",
              "    <tr>\n",
              "      <th>25241</th>\n",
              "      <td>39</td>\n",
              "      <td>17.0</td>\n",
              "      <td>0.0</td>\n",
              "      <td>0.648000</td>\n",
              "      <td>0.7200</td>\n",
              "      <td>0.612</td>\n",
              "      <td>186080</td>\n",
              "      <td>0.526</td>\n",
              "      <td>0.021000</td>\n",
              "      <td>0.419652</td>\n",
              "      <td>...</td>\n",
              "      <td>0.000288</td>\n",
              "      <td>0.003504</td>\n",
              "      <td>0.000956</td>\n",
              "      <td>0.020774</td>\n",
              "      <td>0.000434</td>\n",
              "      <td>0.002075</td>\n",
              "      <td>0.003606</td>\n",
              "      <td>0.142649</td>\n",
              "      <td>0.000160</td>\n",
              "      <td>0.009012</td>\n",
              "    </tr>\n",
              "  </tbody>\n",
              "</table>\n",
              "<p>25242 rows × 71 columns</p>\n",
              "</div>\n",
              "      <button class=\"colab-df-convert\" onclick=\"convertToInteractive('df-ea6bc7b2-a535-415b-905b-99c718d9f1d8')\"\n",
              "              title=\"Convert this dataframe to an interactive table.\"\n",
              "              style=\"display:none;\">\n",
              "        \n",
              "  <svg xmlns=\"http://www.w3.org/2000/svg\" height=\"24px\"viewBox=\"0 0 24 24\"\n",
              "       width=\"24px\">\n",
              "    <path d=\"M0 0h24v24H0V0z\" fill=\"none\"/>\n",
              "    <path d=\"M18.56 5.44l.94 2.06.94-2.06 2.06-.94-2.06-.94-.94-2.06-.94 2.06-2.06.94zm-11 1L8.5 8.5l.94-2.06 2.06-.94-2.06-.94L8.5 2.5l-.94 2.06-2.06.94zm10 10l.94 2.06.94-2.06 2.06-.94-2.06-.94-.94-2.06-.94 2.06-2.06.94z\"/><path d=\"M17.41 7.96l-1.37-1.37c-.4-.4-.92-.59-1.43-.59-.52 0-1.04.2-1.43.59L10.3 9.45l-7.72 7.72c-.78.78-.78 2.05 0 2.83L4 21.41c.39.39.9.59 1.41.59.51 0 1.02-.2 1.41-.59l7.78-7.78 2.81-2.81c.8-.78.8-2.07 0-2.86zM5.41 20L4 18.59l7.72-7.72 1.47 1.35L5.41 20z\"/>\n",
              "  </svg>\n",
              "      </button>\n",
              "      \n",
              "  <style>\n",
              "    .colab-df-container {\n",
              "      display:flex;\n",
              "      flex-wrap:wrap;\n",
              "      gap: 12px;\n",
              "    }\n",
              "\n",
              "    .colab-df-convert {\n",
              "      background-color: #E8F0FE;\n",
              "      border: none;\n",
              "      border-radius: 50%;\n",
              "      cursor: pointer;\n",
              "      display: none;\n",
              "      fill: #1967D2;\n",
              "      height: 32px;\n",
              "      padding: 0 0 0 0;\n",
              "      width: 32px;\n",
              "    }\n",
              "\n",
              "    .colab-df-convert:hover {\n",
              "      background-color: #E2EBFA;\n",
              "      box-shadow: 0px 1px 2px rgba(60, 64, 67, 0.3), 0px 1px 3px 1px rgba(60, 64, 67, 0.15);\n",
              "      fill: #174EA6;\n",
              "    }\n",
              "\n",
              "    [theme=dark] .colab-df-convert {\n",
              "      background-color: #3B4455;\n",
              "      fill: #D2E3FC;\n",
              "    }\n",
              "\n",
              "    [theme=dark] .colab-df-convert:hover {\n",
              "      background-color: #434B5C;\n",
              "      box-shadow: 0px 1px 3px 1px rgba(0, 0, 0, 0.15);\n",
              "      filter: drop-shadow(0px 1px 2px rgba(0, 0, 0, 0.3));\n",
              "      fill: #FFFFFF;\n",
              "    }\n",
              "  </style>\n",
              "\n",
              "      <script>\n",
              "        const buttonEl =\n",
              "          document.querySelector('#df-ea6bc7b2-a535-415b-905b-99c718d9f1d8 button.colab-df-convert');\n",
              "        buttonEl.style.display =\n",
              "          google.colab.kernel.accessAllowed ? 'block' : 'none';\n",
              "\n",
              "        async function convertToInteractive(key) {\n",
              "          const element = document.querySelector('#df-ea6bc7b2-a535-415b-905b-99c718d9f1d8');\n",
              "          const dataTable =\n",
              "            await google.colab.kernel.invokeFunction('convertToInteractive',\n",
              "                                                     [key], {});\n",
              "          if (!dataTable) return;\n",
              "\n",
              "          const docLinkHtml = 'Like what you see? Visit the ' +\n",
              "            '<a target=\"_blank\" href=https://colab.research.google.com/notebooks/data_table.ipynb>data table notebook</a>'\n",
              "            + ' to learn more about interactive tables.';\n",
              "          element.innerHTML = '';\n",
              "          dataTable['output_type'] = 'display_data';\n",
              "          await google.colab.output.renderOutput(dataTable, element);\n",
              "          const docLink = document.createElement('div');\n",
              "          docLink.innerHTML = docLinkHtml;\n",
              "          element.appendChild(docLink);\n",
              "        }\n",
              "      </script>\n",
              "    </div>\n",
              "  </div>\n",
              "  "
            ]
          },
          "metadata": {},
          "execution_count": 105
        }
      ]
    },
    {
      "cell_type": "code",
      "source": [
        "x_train2.to_csv('predicciones_Xgboost.csv', index=False)"
      ],
      "metadata": {
        "id": "0NYjhl3OuuRp"
      },
      "execution_count": null,
      "outputs": []
    }
  ]
}