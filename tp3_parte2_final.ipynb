{
  "nbformat": 4,
  "nbformat_minor": 0,
  "metadata": {
    "colab": {
      "provenance": [],
      "mount_file_id": "1MA8KaBrj8SCIy7txw59_V0DCGk7d9kEp",
      "authorship_tag": "ABX9TyPjWpsyU+r/56WRAy24BWt7",
      "include_colab_link": true
    },
    "kernelspec": {
      "name": "python3",
      "display_name": "Python 3"
    },
    "language_info": {
      "name": "python"
    }
  },
  "cells": [
    {
      "cell_type": "markdown",
      "metadata": {
        "id": "view-in-github",
        "colab_type": "text"
      },
      "source": [
        "<a href=\"https://colab.research.google.com/github/JorgeSedek/tp3_orga_datos/blob/main/tp3_parte2_final.ipynb\" target=\"_parent\"><img src=\"https://colab.research.google.com/assets/colab-badge.svg\" alt=\"Open In Colab\"/></a>"
      ]
    },
    {
      "cell_type": "code",
      "execution_count": null,
      "metadata": {
        "id": "Qv1GkPG8qNoR"
      },
      "outputs": [],
      "source": [
        "import pandas as pd\n",
        "from sklearn.utils import shuffle\n",
        "from sklearn.preprocessing import OneHotEncoder\n",
        "import numpy as np\n",
        "from xgboost import XGBClassifier \n",
        "from sklearn.model_selection import train_test_split\n",
        "from sklearn.linear_model import LogisticRegression"
      ]
    },
    {
      "cell_type": "code",
      "source": [
        "df_train = pd.read_parquet(\"/content/drive/MyDrive/orgaDatos/TP3 dataset music/train.parquet\")"
      ],
      "metadata": {
        "id": "7iPqHOHxqedh"
      },
      "execution_count": null,
      "outputs": []
    },
    {
      "cell_type": "code",
      "source": [
        "df_test = pd.read_parquet(\"/content/drive/MyDrive/orgaDatos/TP3 dataset music/test.parquet\")"
      ],
      "metadata": {
        "id": "BPo20s4Cqiay"
      },
      "execution_count": null,
      "outputs": []
    },
    {
      "cell_type": "code",
      "source": [
        "df_train.count()"
      ],
      "metadata": {
        "colab": {
          "base_uri": "https://localhost:8080/"
        },
        "id": "HGcFrcZSqkot",
        "outputId": "047173b9-9e3f-47f1-f8a0-d962ec3416ba"
      },
      "execution_count": null,
      "outputs": [
        {
          "output_type": "execute_result",
          "data": {
            "text/plain": [
              "track_name          31383\n",
              "lyric               31380\n",
              "genre               31383\n",
              "language            24021\n",
              "popularity          31383\n",
              "artist              31383\n",
              "a_genres            31383\n",
              "a_songs             31383\n",
              "a_popularity        31383\n",
              "did                  7004\n",
              "s-label              7004\n",
              "acousticness        31383\n",
              "danceability        31383\n",
              "duration_ms         31383\n",
              "energy              31383\n",
              "instrumentalness    31383\n",
              "key                 31383\n",
              "liveness            31383\n",
              "loudness            31383\n",
              "mode                31383\n",
              "speechiness         31383\n",
              "tempo               31383\n",
              "time_signature      31383\n",
              "valence             31383\n",
              "dtype: int64"
            ]
          },
          "metadata": {},
          "execution_count": 85
        }
      ]
    },
    {
      "cell_type": "code",
      "source": [
        "def fix_generos(x):\n",
        "    if x in [\"Children’s Music\"]:\n",
        "        return \"Children's Music\"\n",
        "    return x\n",
        " \n",
        "\n",
        "df_train.genre = df_train.genre.map(lambda x:fix_generos(x))\n",
        "df_test.genre = df_test.genre.map(lambda x:fix_generos(x))"
      ],
      "metadata": {
        "id": "Z24McXvrqv_d"
      },
      "execution_count": null,
      "outputs": []
    },
    {
      "cell_type": "code",
      "source": [
        "df_train.drop(['track_name','a_genres','did'], axis=1, inplace= True)\n",
        "df_test.drop(['track_name','a_genres','did'], axis=1, inplace= True)"
      ],
      "metadata": {
        "id": "Y0POYFHzqy54"
      },
      "execution_count": null,
      "outputs": []
    },
    {
      "cell_type": "code",
      "source": [
        "df_train['language'].unique()"
      ],
      "metadata": {
        "colab": {
          "base_uri": "https://localhost:8080/"
        },
        "id": "hWsHYSNzrCTE",
        "outputId": "6281b710-a189-41fa-ab4f-766a6323e7fd"
      },
      "execution_count": null,
      "outputs": [
        {
          "output_type": "execute_result",
          "data": {
            "text/plain": [
              "array(['en', 'es', None, 'it', 'pt', 'fr', 'tl', 'ga', 'ca', 'rw', 'de',\n",
              "       'is', 'su', 'gl'], dtype=object)"
            ]
          },
          "metadata": {},
          "execution_count": 88
        }
      ]
    },
    {
      "cell_type": "code",
      "source": [
        "idioma_mas_popular = df_train['language'].value_counts().reset_index()['index'][0]"
      ],
      "metadata": {
        "id": "6KLKFu1gq24F"
      },
      "execution_count": null,
      "outputs": []
    },
    {
      "cell_type": "code",
      "source": [
        "df_train['language'] = df_train['language'].fillna(idioma_mas_popular)\n",
        "df_test['language'] = df_test['language'].fillna(idioma_mas_popular)"
      ],
      "metadata": {
        "id": "WOx1hvUEq7kg"
      },
      "execution_count": null,
      "outputs": []
    },
    {
      "cell_type": "code",
      "source": [
        "df_train['language'].unique()"
      ],
      "metadata": {
        "colab": {
          "base_uri": "https://localhost:8080/"
        },
        "id": "nQEVfZpBrDdB",
        "outputId": "ef2b3823-4774-4345-a8e5-df44cb806ace"
      },
      "execution_count": null,
      "outputs": [
        {
          "output_type": "execute_result",
          "data": {
            "text/plain": [
              "array(['en', 'es', 'it', 'pt', 'fr', 'tl', 'ga', 'ca', 'rw', 'de', 'is',\n",
              "       'su', 'gl'], dtype=object)"
            ]
          },
          "metadata": {},
          "execution_count": 91
        }
      ]
    },
    {
      "cell_type": "code",
      "source": [
        "df_train['s-label'] = df_train['s-label'].fillna(df_train['s-label'].mean())\n",
        "df_test['s-label'] = df_test['s-label'].fillna(df_test['s-label'].mean())"
      ],
      "metadata": {
        "id": "exi8GxGhrI1L"
      },
      "execution_count": null,
      "outputs": []
    },
    {
      "cell_type": "code",
      "source": [
        "df_train.count()"
      ],
      "metadata": {
        "colab": {
          "base_uri": "https://localhost:8080/"
        },
        "id": "nD8bBNg8rJtx",
        "outputId": "4b976a28-ee05-4252-9347-2ae6b36bda47"
      },
      "execution_count": null,
      "outputs": [
        {
          "output_type": "execute_result",
          "data": {
            "text/plain": [
              "lyric               31380\n",
              "genre               31383\n",
              "language            31383\n",
              "popularity          31383\n",
              "artist              31383\n",
              "a_songs             31383\n",
              "a_popularity        31383\n",
              "s-label             31383\n",
              "acousticness        31383\n",
              "danceability        31383\n",
              "duration_ms         31383\n",
              "energy              31383\n",
              "instrumentalness    31383\n",
              "key                 31383\n",
              "liveness            31383\n",
              "loudness            31383\n",
              "mode                31383\n",
              "speechiness         31383\n",
              "tempo               31383\n",
              "time_signature      31383\n",
              "valence             31383\n",
              "dtype: int64"
            ]
          },
          "metadata": {},
          "execution_count": 93
        }
      ]
    },
    {
      "cell_type": "markdown",
      "source": [
        "# Separación de Test y Valid"
      ],
      "metadata": {
        "id": "-ftplrwSrmIN"
      }
    },
    {
      "cell_type": "markdown",
      "source": [
        "Para separar el test y valid se utiliza la feature artist:\n",
        "\n",
        "*   Se mezcla al azar la lista de artistas sin repetir\n",
        "*   Se toma el 80% de esos artistas\n",
        "*   se divide el set de entrenamiento:\n",
        "\n",
        "    1.  las filas que tienen uno de los artistas dentro de la muestra del 80% pasan a ser el nuevo set de entrenamiento.\n",
        "    2.  el resto pasa a ser el set de validación.\n",
        "\n",
        "\n"
      ],
      "metadata": {
        "id": "VMN-jwbibsbi"
      }
    },
    {
      "cell_type": "code",
      "source": [
        "df_train['artist'].unique()"
      ],
      "metadata": {
        "colab": {
          "base_uri": "https://localhost:8080/"
        },
        "id": "fvl6AnAMrMcL",
        "outputId": "b5ae2785-51eb-4370-836b-e57a9f21eefb"
      },
      "execution_count": null,
      "outputs": [
        {
          "output_type": "execute_result",
          "data": {
            "text/plain": [
              "array(['Beyoncé', 'Bruno Mars', 'Rihanna', ..., 'Christina Milian',\n",
              "       'Freddie Hubbard', 'Michael Bolton'], dtype=object)"
            ]
          },
          "metadata": {},
          "execution_count": 94
        }
      ]
    },
    {
      "cell_type": "code",
      "source": [
        "artistas_shuffled = shuffle(df_train['artist'].unique(), random_state = 8)\n",
        "artistas_80 = artistas_shuffled[:8*(len(artistas_shuffled)//10)]\n",
        "len(artistas_80) / len(artistas_shuffled)"
      ],
      "metadata": {
        "colab": {
          "base_uri": "https://localhost:8080/"
        },
        "id": "hnz2Lg4ars8y",
        "outputId": "0736991c-4fa2-4fa7-e6f8-02127b6c8ea1"
      },
      "execution_count": null,
      "outputs": [
        {
          "output_type": "execute_result",
          "data": {
            "text/plain": [
              "0.7985074626865671"
            ]
          },
          "metadata": {},
          "execution_count": 95
        }
      ]
    },
    {
      "cell_type": "code",
      "source": [
        "df_train_final = df_train[df_train['artist'].map(lambda x: x in artistas_80)]\n",
        "df_valid_final = df_train[df_train['artist'].map(lambda x: not (x in artistas_80))]\n",
        "df_train_final.drop(['artist'], axis=1, inplace= True)\n",
        "df_valid_final.drop(['artist'], axis=1, inplace= True)\n",
        "df_test.drop(['artist'], axis=1, inplace= True)"
      ],
      "metadata": {
        "colab": {
          "base_uri": "https://localhost:8080/"
        },
        "id": "rlY8FjRprzs-",
        "outputId": "36dcce64-03b6-422e-8f9c-102956c36dc6"
      },
      "execution_count": null,
      "outputs": [
        {
          "output_type": "stream",
          "name": "stderr",
          "text": [
            "/usr/local/lib/python3.7/dist-packages/pandas/core/frame.py:4913: SettingWithCopyWarning: \n",
            "A value is trying to be set on a copy of a slice from a DataFrame\n",
            "\n",
            "See the caveats in the documentation: https://pandas.pydata.org/pandas-docs/stable/user_guide/indexing.html#returning-a-view-versus-a-copy\n",
            "  errors=errors,\n"
          ]
        }
      ]
    },
    {
      "cell_type": "code",
      "source": [
        "y_train = df_train_final.genre\n",
        "y_test = df_test.genre\n",
        "x_train = df_train_final.drop(\"genre\", axis = 1)\n",
        "x_test = df_test.drop(\"genre\", axis = 1)"
      ],
      "metadata": {
        "id": "t_WTK4Rkr8Pi"
      },
      "execution_count": null,
      "outputs": []
    },
    {
      "cell_type": "code",
      "source": [
        "y_valid = df_valid_final.genre\n",
        "x_valid = df_valid_final.drop(\"genre\", axis = 1)"
      ],
      "metadata": {
        "id": "7WB0umgEsEtd"
      },
      "execution_count": null,
      "outputs": []
    },
    {
      "cell_type": "code",
      "source": [
        "x_train.info()"
      ],
      "metadata": {
        "colab": {
          "base_uri": "https://localhost:8080/"
        },
        "id": "1OpG2sKIsHav",
        "outputId": "638363c4-5bb0-406a-b4c6-9698f7052f05"
      },
      "execution_count": null,
      "outputs": [
        {
          "output_type": "stream",
          "name": "stdout",
          "text": [
            "<class 'pandas.core.frame.DataFrame'>\n",
            "Int64Index: 25242 entries, 0 to 34336\n",
            "Data columns (total 19 columns):\n",
            " #   Column            Non-Null Count  Dtype  \n",
            "---  ------            --------------  -----  \n",
            " 0   lyric             25239 non-null  object \n",
            " 1   language          25242 non-null  object \n",
            " 2   popularity        25242 non-null  int64  \n",
            " 3   a_songs           25242 non-null  float64\n",
            " 4   a_popularity      25242 non-null  float64\n",
            " 5   s-label           25242 non-null  float64\n",
            " 6   acousticness      25242 non-null  float64\n",
            " 7   danceability      25242 non-null  float64\n",
            " 8   duration_ms       25242 non-null  int64  \n",
            " 9   energy            25242 non-null  float64\n",
            " 10  instrumentalness  25242 non-null  float64\n",
            " 11  key               25242 non-null  object \n",
            " 12  liveness          25242 non-null  float64\n",
            " 13  loudness          25242 non-null  float64\n",
            " 14  mode              25242 non-null  object \n",
            " 15  speechiness       25242 non-null  float64\n",
            " 16  tempo             25242 non-null  float64\n",
            " 17  time_signature    25242 non-null  object \n",
            " 18  valence           25242 non-null  float64\n",
            "dtypes: float64(12), int64(2), object(5)\n",
            "memory usage: 3.9+ MB\n"
          ]
        }
      ]
    },
    {
      "cell_type": "markdown",
      "source": [
        "# One-hot encoding de features"
      ],
      "metadata": {
        "id": "5DWZ1gqrtRQZ"
      }
    },
    {
      "cell_type": "code",
      "source": [
        "def cant_columns_num(x_set):\n",
        "  cant_columns_num = 0\n",
        "  for columna in x_set.columns:\n",
        "    if isinstance(columna, int):\n",
        "      cant_columns_num += 1\n",
        "  return cant_columns_num\n",
        "\n",
        "def renombrar(nombre_feature, x_set):\n",
        "  for i in range(cant_columns_num(x_set)):\n",
        "    x_set = x_set.rename(columns = {i: (nombre_feature + str(i))})\n",
        "  return x_set"
      ],
      "metadata": {
        "id": "CCRU6k8usLRD"
      },
      "execution_count": null,
      "outputs": []
    },
    {
      "cell_type": "code",
      "source": [
        "features_ohe = ['language','key','mode','time_signature']"
      ],
      "metadata": {
        "id": "OC5ptQ7_sjGE"
      },
      "execution_count": null,
      "outputs": []
    },
    {
      "cell_type": "code",
      "source": [
        "x_sets = [x_train, x_valid, x_test]"
      ],
      "metadata": {
        "id": "5AOiuKVd0TBP"
      },
      "execution_count": null,
      "outputs": []
    },
    {
      "cell_type": "code",
      "source": [
        "x_train.columns"
      ],
      "metadata": {
        "colab": {
          "base_uri": "https://localhost:8080/"
        },
        "id": "Dmlij9KO1puX",
        "outputId": "ec0e390c-7678-4246-c7ed-e7d05496fd1f"
      },
      "execution_count": null,
      "outputs": [
        {
          "output_type": "execute_result",
          "data": {
            "text/plain": [
              "Index(['lyric', 'language', 'popularity', 'a_songs', 'a_popularity', 's-label',\n",
              "       'acousticness', 'danceability', 'duration_ms', 'energy',\n",
              "       'instrumentalness', 'key', 'liveness', 'loudness', 'mode',\n",
              "       'speechiness', 'tempo', 'time_signature', 'valence'],\n",
              "      dtype='object')"
            ]
          },
          "metadata": {},
          "execution_count": 103
        }
      ]
    },
    {
      "cell_type": "code",
      "source": [
        "for nombre_feature in features_ohe:\n",
        "  ohe = OneHotEncoder(drop='first', handle_unknown='ignore')\n",
        "  encoded = ohe.fit_transform(x_train[[nombre_feature]]).todense().astype(int)\n",
        "  encoded_valid = ohe.transform(x_valid[[nombre_feature]]).todense().astype(int)\n",
        "  encoded_test = ohe.transform(x_test[[nombre_feature]]).todense().astype(int)\n",
        "\n",
        "  x_train = x_train.reset_index().drop(['index', nombre_feature],axis=1).join(pd.DataFrame(encoded))\n",
        "  x_valid = x_valid.reset_index().drop(['index', nombre_feature],axis=1).join(pd.DataFrame(encoded_valid))\n",
        "  x_test = x_test.reset_index().drop(['index', nombre_feature],axis=1).join(pd.DataFrame(encoded_test))\n",
        "  \n",
        "  x_train = renombrar(nombre_feature,x_train)\n",
        "  x_valid = renombrar(nombre_feature,x_valid)\n",
        "  x_test = renombrar(nombre_feature,x_test)\n"
      ],
      "metadata": {
        "colab": {
          "base_uri": "https://localhost:8080/"
        },
        "id": "hMZX8wPjytoQ",
        "outputId": "0b6e1439-8905-41d8-fab3-37b12f411862"
      },
      "execution_count": null,
      "outputs": [
        {
          "output_type": "stream",
          "name": "stderr",
          "text": [
            "/usr/local/lib/python3.7/dist-packages/sklearn/preprocessing/_encoders.py:174: UserWarning: Found unknown categories in columns [0] during transform. These unknown categories will be encoded as all zeros\n",
            "  UserWarning,\n"
          ]
        }
      ]
    },
    {
      "cell_type": "code",
      "source": [
        "x_train.columns"
      ],
      "metadata": {
        "colab": {
          "base_uri": "https://localhost:8080/"
        },
        "id": "DMQatg-l14tK",
        "outputId": "1a401f0a-273d-4d51-d2ac-900ac2b756c5"
      },
      "execution_count": null,
      "outputs": [
        {
          "output_type": "execute_result",
          "data": {
            "text/plain": [
              "Index(['lyric', 'popularity', 'a_songs', 'a_popularity', 's-label',\n",
              "       'acousticness', 'danceability', 'duration_ms', 'energy',\n",
              "       'instrumentalness', 'liveness', 'loudness', 'speechiness', 'tempo',\n",
              "       'valence', 'language0', 'language1', 'language2', 'language3',\n",
              "       'language4', 'language5', 'language6', 'language7', 'language8',\n",
              "       'language9', 'key0', 'key1', 'key2', 'key3', 'key4', 'key5', 'key6',\n",
              "       'key7', 'key8', 'key9', 'key10', 'mode0', 'time_signature0',\n",
              "       'time_signature1', 'time_signature2'],\n",
              "      dtype='object')"
            ]
          },
          "metadata": {},
          "execution_count": 105
        }
      ]
    },
    {
      "cell_type": "code",
      "source": [
        "x_train['lyric'] = x_train['lyric'].map(lambda x: len(str(x)))"
      ],
      "metadata": {
        "id": "uDv-7LaD6EKV"
      },
      "execution_count": null,
      "outputs": []
    },
    {
      "cell_type": "code",
      "source": [
        "x_valid['lyric'] = x_valid['lyric'].map(lambda x: len(str(x)))"
      ],
      "metadata": {
        "id": "cDTg9Pqa7SpC"
      },
      "execution_count": null,
      "outputs": []
    },
    {
      "cell_type": "code",
      "source": [
        "x_test['lyric'] = x_test['lyric'].map(lambda x: len(str(x)))"
      ],
      "metadata": {
        "id": "_1f7J9SY7U1G"
      },
      "execution_count": null,
      "outputs": []
    },
    {
      "cell_type": "code",
      "source": [
        "model = LogisticRegression(random_state= 8)\n",
        "model.fit(x_train, y_train)"
      ],
      "metadata": {
        "colab": {
          "base_uri": "https://localhost:8080/"
        },
        "id": "ASiOMRc18Kjj",
        "outputId": "83268994-e805-486e-a1df-3c078f2bc9aa"
      },
      "execution_count": null,
      "outputs": [
        {
          "output_type": "stream",
          "name": "stderr",
          "text": [
            "/usr/local/lib/python3.7/dist-packages/sklearn/linear_model/_logistic.py:818: ConvergenceWarning: lbfgs failed to converge (status=1):\n",
            "STOP: TOTAL NO. of ITERATIONS REACHED LIMIT.\n",
            "\n",
            "Increase the number of iterations (max_iter) or scale the data as shown in:\n",
            "    https://scikit-learn.org/stable/modules/preprocessing.html\n",
            "Please also refer to the documentation for alternative solver options:\n",
            "    https://scikit-learn.org/stable/modules/linear_model.html#logistic-regression\n",
            "  extra_warning_msg=_LOGISTIC_SOLVER_CONVERGENCE_MSG,\n"
          ]
        },
        {
          "output_type": "execute_result",
          "data": {
            "text/plain": [
              "LogisticRegression(random_state=8)"
            ]
          },
          "metadata": {},
          "execution_count": 109
        }
      ]
    },
    {
      "cell_type": "code",
      "source": [
        "from sklearn.metrics import classification_report"
      ],
      "metadata": {
        "id": "67UK7fbz8NNJ"
      },
      "execution_count": null,
      "outputs": []
    },
    {
      "cell_type": "code",
      "source": [
        "from sklearn.metrics import top_k_accuracy_score\n",
        "from sklearn.model_selection import RepeatedStratifiedKFold\n",
        "from sklearn.model_selection import RandomizedSearchCV\n",
        "from scipy.stats import uniform"
      ],
      "metadata": {
        "id": "i0Jq-YU98StT"
      },
      "execution_count": null,
      "outputs": []
    },
    {
      "cell_type": "code",
      "source": [
        "space = dict()\n",
        "space['solver'] = ['liblinear']\n",
        "space['penalty'] = ['none', 'l1', 'l2', 'elasticnet']"
      ],
      "metadata": {
        "id": "vIV6AoOl8mmL"
      },
      "execution_count": null,
      "outputs": []
    },
    {
      "cell_type": "code",
      "source": [
        "search = RandomizedSearchCV(model, space, n_iter=2, scoring='accuracy', n_jobs= 1, cv=10, random_state= 8, verbose =10)"
      ],
      "metadata": {
        "id": "kTFvpWGp8nme"
      },
      "execution_count": null,
      "outputs": []
    },
    {
      "cell_type": "code",
      "source": [
        "\n",
        "result = search.fit(x_train, y_train)\n",
        "\n",
        "print('Mejor Score: %s' % result.best_score_)\n",
        "print('Mejor Hiperparametros: %s' % result.best_params_)"
      ],
      "metadata": {
        "colab": {
          "base_uri": "https://localhost:8080/"
        },
        "id": "Lzzyd5PB8wt4",
        "outputId": "da6c006e-9a79-474e-99f6-826477d94639"
      },
      "execution_count": null,
      "outputs": [
        {
          "output_type": "stream",
          "name": "stderr",
          "text": [
            "/usr/local/lib/python3.7/dist-packages/sklearn/model_selection/_split.py:680: UserWarning: The least populated class in y has only 9 members, which is less than n_splits=10.\n",
            "  UserWarning,\n"
          ]
        },
        {
          "output_type": "stream",
          "name": "stdout",
          "text": [
            "Fitting 10 folds for each of 2 candidates, totalling 20 fits\n",
            "[CV 1/10; 1/2] START penalty=l2, solver=liblinear...............................\n",
            "[CV 1/10; 1/2] END penalty=l2, solver=liblinear;, score=0.247 total time=   5.2s\n",
            "[CV 2/10; 1/2] START penalty=l2, solver=liblinear...............................\n",
            "[CV 2/10; 1/2] END penalty=l2, solver=liblinear;, score=0.223 total time=   5.3s\n",
            "[CV 3/10; 1/2] START penalty=l2, solver=liblinear...............................\n",
            "[CV 3/10; 1/2] END penalty=l2, solver=liblinear;, score=0.260 total time=   5.4s\n",
            "[CV 4/10; 1/2] START penalty=l2, solver=liblinear...............................\n",
            "[CV 4/10; 1/2] END penalty=l2, solver=liblinear;, score=0.176 total time=  11.3s\n",
            "[CV 5/10; 1/2] START penalty=l2, solver=liblinear...............................\n",
            "[CV 5/10; 1/2] END penalty=l2, solver=liblinear;, score=0.208 total time=   7.9s\n",
            "[CV 6/10; 1/2] START penalty=l2, solver=liblinear...............................\n",
            "[CV 6/10; 1/2] END penalty=l2, solver=liblinear;, score=0.214 total time=   5.3s\n",
            "[CV 7/10; 1/2] START penalty=l2, solver=liblinear...............................\n",
            "[CV 7/10; 1/2] END penalty=l2, solver=liblinear;, score=0.172 total time=   5.2s\n",
            "[CV 8/10; 1/2] START penalty=l2, solver=liblinear...............................\n",
            "[CV 8/10; 1/2] END penalty=l2, solver=liblinear;, score=0.211 total time=   5.5s\n",
            "[CV 9/10; 1/2] START penalty=l2, solver=liblinear...............................\n",
            "[CV 9/10; 1/2] END penalty=l2, solver=liblinear;, score=0.251 total time=   9.7s\n",
            "[CV 10/10; 1/2] START penalty=l2, solver=liblinear..............................\n",
            "[CV 10/10; 1/2] END penalty=l2, solver=liblinear;, score=0.211 total time=   5.7s\n",
            "[CV 1/10; 2/2] START penalty=l1, solver=liblinear...............................\n",
            "[CV 1/10; 2/2] END penalty=l1, solver=liblinear;, score=0.354 total time=   6.5s\n",
            "[CV 2/10; 2/2] START penalty=l1, solver=liblinear...............................\n",
            "[CV 2/10; 2/2] END penalty=l1, solver=liblinear;, score=0.362 total time=  12.7s\n",
            "[CV 3/10; 2/2] START penalty=l1, solver=liblinear...............................\n",
            "[CV 3/10; 2/2] END penalty=l1, solver=liblinear;, score=0.374 total time=  13.7s\n",
            "[CV 4/10; 2/2] START penalty=l1, solver=liblinear...............................\n",
            "[CV 4/10; 2/2] END penalty=l1, solver=liblinear;, score=0.321 total time=   9.4s\n",
            "[CV 5/10; 2/2] START penalty=l1, solver=liblinear...............................\n",
            "[CV 5/10; 2/2] END penalty=l1, solver=liblinear;, score=0.278 total time=  11.3s\n",
            "[CV 6/10; 2/2] START penalty=l1, solver=liblinear...............................\n",
            "[CV 6/10; 2/2] END penalty=l1, solver=liblinear;, score=0.288 total time=  13.7s\n",
            "[CV 7/10; 2/2] START penalty=l1, solver=liblinear...............................\n",
            "[CV 7/10; 2/2] END penalty=l1, solver=liblinear;, score=0.279 total time=   8.3s\n",
            "[CV 8/10; 2/2] START penalty=l1, solver=liblinear...............................\n",
            "[CV 8/10; 2/2] END penalty=l1, solver=liblinear;, score=0.300 total time=  10.3s\n",
            "[CV 9/10; 2/2] START penalty=l1, solver=liblinear...............................\n",
            "[CV 9/10; 2/2] END penalty=l1, solver=liblinear;, score=0.386 total time=  14.1s\n",
            "[CV 10/10; 2/2] START penalty=l1, solver=liblinear..............................\n",
            "[CV 10/10; 2/2] END penalty=l1, solver=liblinear;, score=0.315 total time=   8.8s\n",
            "Mejor Score: 0.3256451648334405\n",
            "Mejor Hiperparametros: {'solver': 'liblinear', 'penalty': 'l1'}\n"
          ]
        }
      ]
    },
    {
      "cell_type": "code",
      "source": [
        "model2 = LogisticRegression(solver = 'liblinear',penalty = 'l1',random_state= 8)"
      ],
      "metadata": {
        "id": "1_m0JY9D9Edz"
      },
      "execution_count": null,
      "outputs": []
    },
    {
      "cell_type": "code",
      "source": [
        "model2.fit(x_train, y_train)"
      ],
      "metadata": {
        "colab": {
          "base_uri": "https://localhost:8080/"
        },
        "id": "OGKGCSWB9FdQ",
        "outputId": "1c147787-5b7c-48d6-802f-e2e326bf83e7"
      },
      "execution_count": null,
      "outputs": [
        {
          "output_type": "execute_result",
          "data": {
            "text/plain": [
              "LogisticRegression(penalty='l1', random_state=8, solver='liblinear')"
            ]
          },
          "metadata": {},
          "execution_count": 116
        }
      ]
    },
    {
      "cell_type": "code",
      "source": [
        "top_k_accuracy_score(y_valid, model2.predict_proba(x_valid), k=2, labels = model.classes_)"
      ],
      "metadata": {
        "colab": {
          "base_uri": "https://localhost:8080/"
        },
        "id": "gJSnduHT9OAm",
        "outputId": "d1b9b5b5-2c81-4071-9deb-59d08a9c08da"
      },
      "execution_count": null,
      "outputs": [
        {
          "output_type": "execute_result",
          "data": {
            "text/plain": [
              "0.48314606741573035"
            ]
          },
          "metadata": {},
          "execution_count": 117
        }
      ]
    },
    {
      "cell_type": "markdown",
      "source": [
        "el mejor score de validacion obtenido es 0.4831"
      ],
      "metadata": {
        "id": "fBF64FxyD4MD"
      }
    },
    {
      "cell_type": "code",
      "source": [
        "top_k_accuracy_score(y_test, model2.predict_proba(x_test), k=2, labels = model.classes_)"
      ],
      "metadata": {
        "colab": {
          "base_uri": "https://localhost:8080/"
        },
        "id": "3t1pXnHr9PCg",
        "outputId": "15865359-9ac9-4c30-dbfc-e17b485235aa"
      },
      "execution_count": null,
      "outputs": [
        {
          "output_type": "execute_result",
          "data": {
            "text/plain": [
              "0.5050778605280974"
            ]
          },
          "metadata": {},
          "execution_count": 118
        }
      ]
    },
    {
      "cell_type": "markdown",
      "source": [
        "el score para test es 0.5051"
      ],
      "metadata": {
        "id": "rF0dvraNVuJf"
      }
    },
    {
      "cell_type": "code",
      "source": [
        "prediciones = model2.predict_proba(x_train)"
      ],
      "metadata": {
        "id": "H-ZItDEIDYHG"
      },
      "execution_count": null,
      "outputs": []
    },
    {
      "cell_type": "code",
      "source": [
        "x_train2 = x_train.copy()"
      ],
      "metadata": {
        "id": "QmuHy-5-xnVs"
      },
      "execution_count": null,
      "outputs": []
    },
    {
      "cell_type": "code",
      "source": [
        "model.classes_"
      ],
      "metadata": {
        "colab": {
          "base_uri": "https://localhost:8080/"
        },
        "id": "yWJKetoFynF6",
        "outputId": "4d29441a-2260-486c-8ab8-50fc8660aa15"
      },
      "execution_count": null,
      "outputs": [
        {
          "output_type": "execute_result",
          "data": {
            "text/plain": [
              "array(['Alternative', 'Anime', 'Blues', \"Children's Music\", 'Classical',\n",
              "       'Comedy', 'Country', 'Dance', 'Electronic', 'Folk', 'Hip-Hop',\n",
              "       'Indie', 'Jazz', 'Movie', 'Opera', 'Pop', 'R&B', 'Rap', 'Reggae',\n",
              "       'Reggaeton', 'Rock', 'Ska', 'Soul', 'Soundtrack', 'World'],\n",
              "      dtype=object)"
            ]
          },
          "metadata": {},
          "execution_count": 121
        }
      ]
    },
    {
      "cell_type": "code",
      "source": [
        "i = 0\n",
        "for genero in model.classes_:\n",
        "  x_train2[genero] = prediciones[:,i]\n",
        "  i+= 1"
      ],
      "metadata": {
        "id": "T7Nviw3e0dzs"
      },
      "execution_count": null,
      "outputs": []
    },
    {
      "cell_type": "code",
      "source": [
        "x_train2"
      ],
      "metadata": {
        "colab": {
          "base_uri": "https://localhost:8080/",
          "height": 679
        },
        "id": "J5-O2iXA1G9J",
        "outputId": "0d4aac55-bdb3-4d82-9fa1-cdd83d87931e"
      },
      "execution_count": null,
      "outputs": [
        {
          "output_type": "execute_result",
          "data": {
            "text/plain": [
              "       lyric  popularity  a_songs  a_popularity   s-label  acousticness  \\\n",
              "0       1836          79    276.0         205.5  0.490309        0.2720   \n",
              "1       1836          80    276.0         205.5  0.490309        0.2720   \n",
              "2       1836          80    276.0         205.5  0.490309        0.2720   \n",
              "3       1951          71    276.0         205.5  0.490309        0.0296   \n",
              "4       1951          71    276.0         205.5  0.490309        0.0296   \n",
              "...      ...         ...      ...           ...       ...           ...   \n",
              "25237    441          19     89.0           1.0  0.748000        0.6120   \n",
              "25238    294          34     89.0           1.0  0.868000        0.8890   \n",
              "25239     28          18     89.0           1.0  0.793000        0.7630   \n",
              "25240    609          28     89.0           1.0  0.738000        0.8040   \n",
              "25241   1110          39     17.0           0.0  0.648000        0.7200   \n",
              "\n",
              "       danceability  duration_ms  energy  instrumentalness  ...       Pop  \\\n",
              "0             0.508       261640   0.720          0.000000  ...  0.434595   \n",
              "1             0.508       261640   0.720          0.000000  ...  0.435705   \n",
              "2             0.508       261640   0.720          0.000000  ...  0.435705   \n",
              "3             0.412       319467   0.441          0.072600  ...  0.550177   \n",
              "4             0.412       319467   0.441          0.072600  ...  0.550177   \n",
              "...             ...          ...     ...               ...  ...       ...   \n",
              "25237         0.616       190733   0.822          0.000003  ...  0.000231   \n",
              "25238         0.457       230200   0.369          0.011100  ...  0.001226   \n",
              "25239         0.717       275640   0.566          0.812000  ...  0.000026   \n",
              "25240         0.633       204373   0.553          0.000866  ...  0.001360   \n",
              "25241         0.612       186080   0.526          0.021000  ...  0.007211   \n",
              "\n",
              "            R&B       Rap        Reggae     Reggaeton      Rock           Ska  \\\n",
              "0      0.043417  0.000910  5.725449e-22  1.916673e-15  0.071086  1.157203e-48   \n",
              "1      0.042310  0.000947  5.179538e-22  1.773365e-15  0.075531  9.902173e-49   \n",
              "2      0.042310  0.000947  5.179538e-22  1.773365e-15  0.075531  9.902173e-49   \n",
              "3      0.046717  0.001547  3.054450e-21  1.690735e-15  0.014394  1.439865e-48   \n",
              "4      0.046717  0.001547  3.054450e-21  1.690735e-15  0.014394  1.439865e-48   \n",
              "...         ...       ...           ...           ...       ...           ...   \n",
              "25237  0.009453  0.000442  3.282160e-02  1.705426e-04  0.005183  2.141461e-01   \n",
              "25238  0.005040  0.000293  4.335740e-03  4.935935e-06  0.023857  3.105210e-03   \n",
              "25239  0.000098  0.000052  2.093339e-03  3.274452e-05  0.002315  4.192842e-04   \n",
              "25240  0.020796  0.000953  1.851534e-02  1.802089e-04  0.009449  1.744272e-02   \n",
              "25241  0.035330  0.003125  5.831124e-03  2.345465e-04  0.016428  5.801800e-03   \n",
              "\n",
              "           Soul    Soundtrack         World  \n",
              "0      0.050348  3.406027e-16  1.215258e-13  \n",
              "1      0.048806  3.267850e-16  1.111466e-13  \n",
              "2      0.048806  3.267850e-16  1.111466e-13  \n",
              "3      0.032868  1.172714e-15  8.736186e-14  \n",
              "4      0.032868  1.172714e-15  8.736186e-14  \n",
              "...         ...           ...           ...  \n",
              "25237  0.065848  2.922042e-06  1.487514e-01  \n",
              "25238  0.190088  1.463888e-05  1.145463e-01  \n",
              "25239  0.026373  1.047759e-04  6.556798e-02  \n",
              "25240  0.146637  7.996906e-06  8.090704e-02  \n",
              "25241  0.206225  9.321632e-06  4.881634e-02  \n",
              "\n",
              "[25242 rows x 65 columns]"
            ],
            "text/html": [
              "\n",
              "  <div id=\"df-de9cc93b-7ca1-4a39-8932-83ddc0a932fd\">\n",
              "    <div class=\"colab-df-container\">\n",
              "      <div>\n",
              "<style scoped>\n",
              "    .dataframe tbody tr th:only-of-type {\n",
              "        vertical-align: middle;\n",
              "    }\n",
              "\n",
              "    .dataframe tbody tr th {\n",
              "        vertical-align: top;\n",
              "    }\n",
              "\n",
              "    .dataframe thead th {\n",
              "        text-align: right;\n",
              "    }\n",
              "</style>\n",
              "<table border=\"1\" class=\"dataframe\">\n",
              "  <thead>\n",
              "    <tr style=\"text-align: right;\">\n",
              "      <th></th>\n",
              "      <th>lyric</th>\n",
              "      <th>popularity</th>\n",
              "      <th>a_songs</th>\n",
              "      <th>a_popularity</th>\n",
              "      <th>s-label</th>\n",
              "      <th>acousticness</th>\n",
              "      <th>danceability</th>\n",
              "      <th>duration_ms</th>\n",
              "      <th>energy</th>\n",
              "      <th>instrumentalness</th>\n",
              "      <th>...</th>\n",
              "      <th>Pop</th>\n",
              "      <th>R&amp;B</th>\n",
              "      <th>Rap</th>\n",
              "      <th>Reggae</th>\n",
              "      <th>Reggaeton</th>\n",
              "      <th>Rock</th>\n",
              "      <th>Ska</th>\n",
              "      <th>Soul</th>\n",
              "      <th>Soundtrack</th>\n",
              "      <th>World</th>\n",
              "    </tr>\n",
              "  </thead>\n",
              "  <tbody>\n",
              "    <tr>\n",
              "      <th>0</th>\n",
              "      <td>1836</td>\n",
              "      <td>79</td>\n",
              "      <td>276.0</td>\n",
              "      <td>205.5</td>\n",
              "      <td>0.490309</td>\n",
              "      <td>0.2720</td>\n",
              "      <td>0.508</td>\n",
              "      <td>261640</td>\n",
              "      <td>0.720</td>\n",
              "      <td>0.000000</td>\n",
              "      <td>...</td>\n",
              "      <td>0.434595</td>\n",
              "      <td>0.043417</td>\n",
              "      <td>0.000910</td>\n",
              "      <td>5.725449e-22</td>\n",
              "      <td>1.916673e-15</td>\n",
              "      <td>0.071086</td>\n",
              "      <td>1.157203e-48</td>\n",
              "      <td>0.050348</td>\n",
              "      <td>3.406027e-16</td>\n",
              "      <td>1.215258e-13</td>\n",
              "    </tr>\n",
              "    <tr>\n",
              "      <th>1</th>\n",
              "      <td>1836</td>\n",
              "      <td>80</td>\n",
              "      <td>276.0</td>\n",
              "      <td>205.5</td>\n",
              "      <td>0.490309</td>\n",
              "      <td>0.2720</td>\n",
              "      <td>0.508</td>\n",
              "      <td>261640</td>\n",
              "      <td>0.720</td>\n",
              "      <td>0.000000</td>\n",
              "      <td>...</td>\n",
              "      <td>0.435705</td>\n",
              "      <td>0.042310</td>\n",
              "      <td>0.000947</td>\n",
              "      <td>5.179538e-22</td>\n",
              "      <td>1.773365e-15</td>\n",
              "      <td>0.075531</td>\n",
              "      <td>9.902173e-49</td>\n",
              "      <td>0.048806</td>\n",
              "      <td>3.267850e-16</td>\n",
              "      <td>1.111466e-13</td>\n",
              "    </tr>\n",
              "    <tr>\n",
              "      <th>2</th>\n",
              "      <td>1836</td>\n",
              "      <td>80</td>\n",
              "      <td>276.0</td>\n",
              "      <td>205.5</td>\n",
              "      <td>0.490309</td>\n",
              "      <td>0.2720</td>\n",
              "      <td>0.508</td>\n",
              "      <td>261640</td>\n",
              "      <td>0.720</td>\n",
              "      <td>0.000000</td>\n",
              "      <td>...</td>\n",
              "      <td>0.435705</td>\n",
              "      <td>0.042310</td>\n",
              "      <td>0.000947</td>\n",
              "      <td>5.179538e-22</td>\n",
              "      <td>1.773365e-15</td>\n",
              "      <td>0.075531</td>\n",
              "      <td>9.902173e-49</td>\n",
              "      <td>0.048806</td>\n",
              "      <td>3.267850e-16</td>\n",
              "      <td>1.111466e-13</td>\n",
              "    </tr>\n",
              "    <tr>\n",
              "      <th>3</th>\n",
              "      <td>1951</td>\n",
              "      <td>71</td>\n",
              "      <td>276.0</td>\n",
              "      <td>205.5</td>\n",
              "      <td>0.490309</td>\n",
              "      <td>0.0296</td>\n",
              "      <td>0.412</td>\n",
              "      <td>319467</td>\n",
              "      <td>0.441</td>\n",
              "      <td>0.072600</td>\n",
              "      <td>...</td>\n",
              "      <td>0.550177</td>\n",
              "      <td>0.046717</td>\n",
              "      <td>0.001547</td>\n",
              "      <td>3.054450e-21</td>\n",
              "      <td>1.690735e-15</td>\n",
              "      <td>0.014394</td>\n",
              "      <td>1.439865e-48</td>\n",
              "      <td>0.032868</td>\n",
              "      <td>1.172714e-15</td>\n",
              "      <td>8.736186e-14</td>\n",
              "    </tr>\n",
              "    <tr>\n",
              "      <th>4</th>\n",
              "      <td>1951</td>\n",
              "      <td>71</td>\n",
              "      <td>276.0</td>\n",
              "      <td>205.5</td>\n",
              "      <td>0.490309</td>\n",
              "      <td>0.0296</td>\n",
              "      <td>0.412</td>\n",
              "      <td>319467</td>\n",
              "      <td>0.441</td>\n",
              "      <td>0.072600</td>\n",
              "      <td>...</td>\n",
              "      <td>0.550177</td>\n",
              "      <td>0.046717</td>\n",
              "      <td>0.001547</td>\n",
              "      <td>3.054450e-21</td>\n",
              "      <td>1.690735e-15</td>\n",
              "      <td>0.014394</td>\n",
              "      <td>1.439865e-48</td>\n",
              "      <td>0.032868</td>\n",
              "      <td>1.172714e-15</td>\n",
              "      <td>8.736186e-14</td>\n",
              "    </tr>\n",
              "    <tr>\n",
              "      <th>...</th>\n",
              "      <td>...</td>\n",
              "      <td>...</td>\n",
              "      <td>...</td>\n",
              "      <td>...</td>\n",
              "      <td>...</td>\n",
              "      <td>...</td>\n",
              "      <td>...</td>\n",
              "      <td>...</td>\n",
              "      <td>...</td>\n",
              "      <td>...</td>\n",
              "      <td>...</td>\n",
              "      <td>...</td>\n",
              "      <td>...</td>\n",
              "      <td>...</td>\n",
              "      <td>...</td>\n",
              "      <td>...</td>\n",
              "      <td>...</td>\n",
              "      <td>...</td>\n",
              "      <td>...</td>\n",
              "      <td>...</td>\n",
              "      <td>...</td>\n",
              "    </tr>\n",
              "    <tr>\n",
              "      <th>25237</th>\n",
              "      <td>441</td>\n",
              "      <td>19</td>\n",
              "      <td>89.0</td>\n",
              "      <td>1.0</td>\n",
              "      <td>0.748000</td>\n",
              "      <td>0.6120</td>\n",
              "      <td>0.616</td>\n",
              "      <td>190733</td>\n",
              "      <td>0.822</td>\n",
              "      <td>0.000003</td>\n",
              "      <td>...</td>\n",
              "      <td>0.000231</td>\n",
              "      <td>0.009453</td>\n",
              "      <td>0.000442</td>\n",
              "      <td>3.282160e-02</td>\n",
              "      <td>1.705426e-04</td>\n",
              "      <td>0.005183</td>\n",
              "      <td>2.141461e-01</td>\n",
              "      <td>0.065848</td>\n",
              "      <td>2.922042e-06</td>\n",
              "      <td>1.487514e-01</td>\n",
              "    </tr>\n",
              "    <tr>\n",
              "      <th>25238</th>\n",
              "      <td>294</td>\n",
              "      <td>34</td>\n",
              "      <td>89.0</td>\n",
              "      <td>1.0</td>\n",
              "      <td>0.868000</td>\n",
              "      <td>0.8890</td>\n",
              "      <td>0.457</td>\n",
              "      <td>230200</td>\n",
              "      <td>0.369</td>\n",
              "      <td>0.011100</td>\n",
              "      <td>...</td>\n",
              "      <td>0.001226</td>\n",
              "      <td>0.005040</td>\n",
              "      <td>0.000293</td>\n",
              "      <td>4.335740e-03</td>\n",
              "      <td>4.935935e-06</td>\n",
              "      <td>0.023857</td>\n",
              "      <td>3.105210e-03</td>\n",
              "      <td>0.190088</td>\n",
              "      <td>1.463888e-05</td>\n",
              "      <td>1.145463e-01</td>\n",
              "    </tr>\n",
              "    <tr>\n",
              "      <th>25239</th>\n",
              "      <td>28</td>\n",
              "      <td>18</td>\n",
              "      <td>89.0</td>\n",
              "      <td>1.0</td>\n",
              "      <td>0.793000</td>\n",
              "      <td>0.7630</td>\n",
              "      <td>0.717</td>\n",
              "      <td>275640</td>\n",
              "      <td>0.566</td>\n",
              "      <td>0.812000</td>\n",
              "      <td>...</td>\n",
              "      <td>0.000026</td>\n",
              "      <td>0.000098</td>\n",
              "      <td>0.000052</td>\n",
              "      <td>2.093339e-03</td>\n",
              "      <td>3.274452e-05</td>\n",
              "      <td>0.002315</td>\n",
              "      <td>4.192842e-04</td>\n",
              "      <td>0.026373</td>\n",
              "      <td>1.047759e-04</td>\n",
              "      <td>6.556798e-02</td>\n",
              "    </tr>\n",
              "    <tr>\n",
              "      <th>25240</th>\n",
              "      <td>609</td>\n",
              "      <td>28</td>\n",
              "      <td>89.0</td>\n",
              "      <td>1.0</td>\n",
              "      <td>0.738000</td>\n",
              "      <td>0.8040</td>\n",
              "      <td>0.633</td>\n",
              "      <td>204373</td>\n",
              "      <td>0.553</td>\n",
              "      <td>0.000866</td>\n",
              "      <td>...</td>\n",
              "      <td>0.001360</td>\n",
              "      <td>0.020796</td>\n",
              "      <td>0.000953</td>\n",
              "      <td>1.851534e-02</td>\n",
              "      <td>1.802089e-04</td>\n",
              "      <td>0.009449</td>\n",
              "      <td>1.744272e-02</td>\n",
              "      <td>0.146637</td>\n",
              "      <td>7.996906e-06</td>\n",
              "      <td>8.090704e-02</td>\n",
              "    </tr>\n",
              "    <tr>\n",
              "      <th>25241</th>\n",
              "      <td>1110</td>\n",
              "      <td>39</td>\n",
              "      <td>17.0</td>\n",
              "      <td>0.0</td>\n",
              "      <td>0.648000</td>\n",
              "      <td>0.7200</td>\n",
              "      <td>0.612</td>\n",
              "      <td>186080</td>\n",
              "      <td>0.526</td>\n",
              "      <td>0.021000</td>\n",
              "      <td>...</td>\n",
              "      <td>0.007211</td>\n",
              "      <td>0.035330</td>\n",
              "      <td>0.003125</td>\n",
              "      <td>5.831124e-03</td>\n",
              "      <td>2.345465e-04</td>\n",
              "      <td>0.016428</td>\n",
              "      <td>5.801800e-03</td>\n",
              "      <td>0.206225</td>\n",
              "      <td>9.321632e-06</td>\n",
              "      <td>4.881634e-02</td>\n",
              "    </tr>\n",
              "  </tbody>\n",
              "</table>\n",
              "<p>25242 rows × 65 columns</p>\n",
              "</div>\n",
              "      <button class=\"colab-df-convert\" onclick=\"convertToInteractive('df-de9cc93b-7ca1-4a39-8932-83ddc0a932fd')\"\n",
              "              title=\"Convert this dataframe to an interactive table.\"\n",
              "              style=\"display:none;\">\n",
              "        \n",
              "  <svg xmlns=\"http://www.w3.org/2000/svg\" height=\"24px\"viewBox=\"0 0 24 24\"\n",
              "       width=\"24px\">\n",
              "    <path d=\"M0 0h24v24H0V0z\" fill=\"none\"/>\n",
              "    <path d=\"M18.56 5.44l.94 2.06.94-2.06 2.06-.94-2.06-.94-.94-2.06-.94 2.06-2.06.94zm-11 1L8.5 8.5l.94-2.06 2.06-.94-2.06-.94L8.5 2.5l-.94 2.06-2.06.94zm10 10l.94 2.06.94-2.06 2.06-.94-2.06-.94-.94-2.06-.94 2.06-2.06.94z\"/><path d=\"M17.41 7.96l-1.37-1.37c-.4-.4-.92-.59-1.43-.59-.52 0-1.04.2-1.43.59L10.3 9.45l-7.72 7.72c-.78.78-.78 2.05 0 2.83L4 21.41c.39.39.9.59 1.41.59.51 0 1.02-.2 1.41-.59l7.78-7.78 2.81-2.81c.8-.78.8-2.07 0-2.86zM5.41 20L4 18.59l7.72-7.72 1.47 1.35L5.41 20z\"/>\n",
              "  </svg>\n",
              "      </button>\n",
              "      \n",
              "  <style>\n",
              "    .colab-df-container {\n",
              "      display:flex;\n",
              "      flex-wrap:wrap;\n",
              "      gap: 12px;\n",
              "    }\n",
              "\n",
              "    .colab-df-convert {\n",
              "      background-color: #E8F0FE;\n",
              "      border: none;\n",
              "      border-radius: 50%;\n",
              "      cursor: pointer;\n",
              "      display: none;\n",
              "      fill: #1967D2;\n",
              "      height: 32px;\n",
              "      padding: 0 0 0 0;\n",
              "      width: 32px;\n",
              "    }\n",
              "\n",
              "    .colab-df-convert:hover {\n",
              "      background-color: #E2EBFA;\n",
              "      box-shadow: 0px 1px 2px rgba(60, 64, 67, 0.3), 0px 1px 3px 1px rgba(60, 64, 67, 0.15);\n",
              "      fill: #174EA6;\n",
              "    }\n",
              "\n",
              "    [theme=dark] .colab-df-convert {\n",
              "      background-color: #3B4455;\n",
              "      fill: #D2E3FC;\n",
              "    }\n",
              "\n",
              "    [theme=dark] .colab-df-convert:hover {\n",
              "      background-color: #434B5C;\n",
              "      box-shadow: 0px 1px 3px 1px rgba(0, 0, 0, 0.15);\n",
              "      filter: drop-shadow(0px 1px 2px rgba(0, 0, 0, 0.3));\n",
              "      fill: #FFFFFF;\n",
              "    }\n",
              "  </style>\n",
              "\n",
              "      <script>\n",
              "        const buttonEl =\n",
              "          document.querySelector('#df-de9cc93b-7ca1-4a39-8932-83ddc0a932fd button.colab-df-convert');\n",
              "        buttonEl.style.display =\n",
              "          google.colab.kernel.accessAllowed ? 'block' : 'none';\n",
              "\n",
              "        async function convertToInteractive(key) {\n",
              "          const element = document.querySelector('#df-de9cc93b-7ca1-4a39-8932-83ddc0a932fd');\n",
              "          const dataTable =\n",
              "            await google.colab.kernel.invokeFunction('convertToInteractive',\n",
              "                                                     [key], {});\n",
              "          if (!dataTable) return;\n",
              "\n",
              "          const docLinkHtml = 'Like what you see? Visit the ' +\n",
              "            '<a target=\"_blank\" href=https://colab.research.google.com/notebooks/data_table.ipynb>data table notebook</a>'\n",
              "            + ' to learn more about interactive tables.';\n",
              "          element.innerHTML = '';\n",
              "          dataTable['output_type'] = 'display_data';\n",
              "          await google.colab.output.renderOutput(dataTable, element);\n",
              "          const docLink = document.createElement('div');\n",
              "          docLink.innerHTML = docLinkHtml;\n",
              "          element.appendChild(docLink);\n",
              "        }\n",
              "      </script>\n",
              "    </div>\n",
              "  </div>\n",
              "  "
            ]
          },
          "metadata": {},
          "execution_count": 123
        }
      ]
    },
    {
      "cell_type": "code",
      "source": [
        "x_train2.to_csv('predicciones_parte2.csv', index=False)"
      ],
      "metadata": {
        "id": "upzkAlf6SJVV"
      },
      "execution_count": null,
      "outputs": []
    },
    {
      "cell_type": "code",
      "source": [
        "x_train.columns"
      ],
      "metadata": {
        "colab": {
          "base_uri": "https://localhost:8080/"
        },
        "id": "5PuJwjoAW5PQ",
        "outputId": "4690fa34-01d9-44bd-b971-c662f1c6a82d"
      },
      "execution_count": null,
      "outputs": [
        {
          "output_type": "execute_result",
          "data": {
            "text/plain": [
              "Index(['lyric', 'popularity', 'a_songs', 'a_popularity', 's-label',\n",
              "       'acousticness', 'danceability', 'duration_ms', 'energy',\n",
              "       'instrumentalness', 'liveness', 'loudness', 'speechiness', 'tempo',\n",
              "       'valence', 'language0', 'language1', 'language2', 'language3',\n",
              "       'language4', 'language5', 'language6', 'language7', 'language8',\n",
              "       'language9', 'key0', 'key1', 'key2', 'key3', 'key4', 'key5', 'key6',\n",
              "       'key7', 'key8', 'key9', 'key10', 'mode0', 'time_signature0',\n",
              "       'time_signature1', 'time_signature2'],\n",
              "      dtype='object')"
            ]
          },
          "metadata": {},
          "execution_count": 125
        }
      ]
    },
    {
      "cell_type": "markdown",
      "source": [
        "El dataset de predicciones se compone de los features después de encodear y las predicciones (una columna para cada categoría con su nombre)"
      ],
      "metadata": {
        "id": "EEI-7VLSUyy5"
      }
    },
    {
      "cell_type": "code",
      "source": [
        "pesos = np.sum(abs(model2.coef_), axis = 0).tolist()\n",
        "df = pd.DataFrame({'features':x_train.columns,'coef':pesos})\n",
        "df.sort_values(by=['coef'], ascending=False)"
      ],
      "metadata": {
        "colab": {
          "base_uri": "https://localhost:8080/",
          "height": 1000
        },
        "id": "Rv7mfdcBV9B8",
        "outputId": "3a221479-304c-468b-e4bd-0547a1971f29"
      },
      "execution_count": null,
      "outputs": [
        {
          "output_type": "execute_result",
          "data": {
            "text/plain": [
              "            features        coef\n",
              "12       speechiness  103.932683\n",
              "6       danceability   52.108663\n",
              "17         language2   44.473338\n",
              "8             energy   42.914858\n",
              "14           valence   37.330299\n",
              "5       acousticness   35.737108\n",
              "9   instrumentalness   32.442332\n",
              "22         language7   28.288491\n",
              "16         language1   22.842232\n",
              "21         language6   16.257604\n",
              "38   time_signature1   15.986537\n",
              "37   time_signature0   14.791358\n",
              "10          liveness   12.927089\n",
              "39   time_signature2   11.625435\n",
              "23         language8   10.979782\n",
              "30              key5    8.109589\n",
              "4            s-label    7.733297\n",
              "36             mode0    6.340939\n",
              "35             key10    6.154408\n",
              "3       a_popularity    6.058301\n",
              "26              key1    5.812491\n",
              "28              key3    5.734777\n",
              "31              key6    5.530154\n",
              "29              key4    5.334611\n",
              "25              key0    4.911713\n",
              "33              key8    4.868420\n",
              "32              key7    4.140518\n",
              "18         language3    4.029657\n",
              "20         language5    3.704226\n",
              "11          loudness    3.266750\n",
              "27              key2    2.622615\n",
              "34              key9    1.825307\n",
              "1         popularity    1.425393\n",
              "13             tempo    0.130841\n",
              "2            a_songs    0.087233\n",
              "0              lyric    0.013611\n",
              "7        duration_ms    0.000122\n",
              "24         language9    0.000000\n",
              "19         language4    0.000000\n",
              "15         language0    0.000000"
            ],
            "text/html": [
              "\n",
              "  <div id=\"df-b4cb9932-e7db-4432-8e1c-8d53b26c5197\">\n",
              "    <div class=\"colab-df-container\">\n",
              "      <div>\n",
              "<style scoped>\n",
              "    .dataframe tbody tr th:only-of-type {\n",
              "        vertical-align: middle;\n",
              "    }\n",
              "\n",
              "    .dataframe tbody tr th {\n",
              "        vertical-align: top;\n",
              "    }\n",
              "\n",
              "    .dataframe thead th {\n",
              "        text-align: right;\n",
              "    }\n",
              "</style>\n",
              "<table border=\"1\" class=\"dataframe\">\n",
              "  <thead>\n",
              "    <tr style=\"text-align: right;\">\n",
              "      <th></th>\n",
              "      <th>features</th>\n",
              "      <th>coef</th>\n",
              "    </tr>\n",
              "  </thead>\n",
              "  <tbody>\n",
              "    <tr>\n",
              "      <th>12</th>\n",
              "      <td>speechiness</td>\n",
              "      <td>103.932683</td>\n",
              "    </tr>\n",
              "    <tr>\n",
              "      <th>6</th>\n",
              "      <td>danceability</td>\n",
              "      <td>52.108663</td>\n",
              "    </tr>\n",
              "    <tr>\n",
              "      <th>17</th>\n",
              "      <td>language2</td>\n",
              "      <td>44.473338</td>\n",
              "    </tr>\n",
              "    <tr>\n",
              "      <th>8</th>\n",
              "      <td>energy</td>\n",
              "      <td>42.914858</td>\n",
              "    </tr>\n",
              "    <tr>\n",
              "      <th>14</th>\n",
              "      <td>valence</td>\n",
              "      <td>37.330299</td>\n",
              "    </tr>\n",
              "    <tr>\n",
              "      <th>5</th>\n",
              "      <td>acousticness</td>\n",
              "      <td>35.737108</td>\n",
              "    </tr>\n",
              "    <tr>\n",
              "      <th>9</th>\n",
              "      <td>instrumentalness</td>\n",
              "      <td>32.442332</td>\n",
              "    </tr>\n",
              "    <tr>\n",
              "      <th>22</th>\n",
              "      <td>language7</td>\n",
              "      <td>28.288491</td>\n",
              "    </tr>\n",
              "    <tr>\n",
              "      <th>16</th>\n",
              "      <td>language1</td>\n",
              "      <td>22.842232</td>\n",
              "    </tr>\n",
              "    <tr>\n",
              "      <th>21</th>\n",
              "      <td>language6</td>\n",
              "      <td>16.257604</td>\n",
              "    </tr>\n",
              "    <tr>\n",
              "      <th>38</th>\n",
              "      <td>time_signature1</td>\n",
              "      <td>15.986537</td>\n",
              "    </tr>\n",
              "    <tr>\n",
              "      <th>37</th>\n",
              "      <td>time_signature0</td>\n",
              "      <td>14.791358</td>\n",
              "    </tr>\n",
              "    <tr>\n",
              "      <th>10</th>\n",
              "      <td>liveness</td>\n",
              "      <td>12.927089</td>\n",
              "    </tr>\n",
              "    <tr>\n",
              "      <th>39</th>\n",
              "      <td>time_signature2</td>\n",
              "      <td>11.625435</td>\n",
              "    </tr>\n",
              "    <tr>\n",
              "      <th>23</th>\n",
              "      <td>language8</td>\n",
              "      <td>10.979782</td>\n",
              "    </tr>\n",
              "    <tr>\n",
              "      <th>30</th>\n",
              "      <td>key5</td>\n",
              "      <td>8.109589</td>\n",
              "    </tr>\n",
              "    <tr>\n",
              "      <th>4</th>\n",
              "      <td>s-label</td>\n",
              "      <td>7.733297</td>\n",
              "    </tr>\n",
              "    <tr>\n",
              "      <th>36</th>\n",
              "      <td>mode0</td>\n",
              "      <td>6.340939</td>\n",
              "    </tr>\n",
              "    <tr>\n",
              "      <th>35</th>\n",
              "      <td>key10</td>\n",
              "      <td>6.154408</td>\n",
              "    </tr>\n",
              "    <tr>\n",
              "      <th>3</th>\n",
              "      <td>a_popularity</td>\n",
              "      <td>6.058301</td>\n",
              "    </tr>\n",
              "    <tr>\n",
              "      <th>26</th>\n",
              "      <td>key1</td>\n",
              "      <td>5.812491</td>\n",
              "    </tr>\n",
              "    <tr>\n",
              "      <th>28</th>\n",
              "      <td>key3</td>\n",
              "      <td>5.734777</td>\n",
              "    </tr>\n",
              "    <tr>\n",
              "      <th>31</th>\n",
              "      <td>key6</td>\n",
              "      <td>5.530154</td>\n",
              "    </tr>\n",
              "    <tr>\n",
              "      <th>29</th>\n",
              "      <td>key4</td>\n",
              "      <td>5.334611</td>\n",
              "    </tr>\n",
              "    <tr>\n",
              "      <th>25</th>\n",
              "      <td>key0</td>\n",
              "      <td>4.911713</td>\n",
              "    </tr>\n",
              "    <tr>\n",
              "      <th>33</th>\n",
              "      <td>key8</td>\n",
              "      <td>4.868420</td>\n",
              "    </tr>\n",
              "    <tr>\n",
              "      <th>32</th>\n",
              "      <td>key7</td>\n",
              "      <td>4.140518</td>\n",
              "    </tr>\n",
              "    <tr>\n",
              "      <th>18</th>\n",
              "      <td>language3</td>\n",
              "      <td>4.029657</td>\n",
              "    </tr>\n",
              "    <tr>\n",
              "      <th>20</th>\n",
              "      <td>language5</td>\n",
              "      <td>3.704226</td>\n",
              "    </tr>\n",
              "    <tr>\n",
              "      <th>11</th>\n",
              "      <td>loudness</td>\n",
              "      <td>3.266750</td>\n",
              "    </tr>\n",
              "    <tr>\n",
              "      <th>27</th>\n",
              "      <td>key2</td>\n",
              "      <td>2.622615</td>\n",
              "    </tr>\n",
              "    <tr>\n",
              "      <th>34</th>\n",
              "      <td>key9</td>\n",
              "      <td>1.825307</td>\n",
              "    </tr>\n",
              "    <tr>\n",
              "      <th>1</th>\n",
              "      <td>popularity</td>\n",
              "      <td>1.425393</td>\n",
              "    </tr>\n",
              "    <tr>\n",
              "      <th>13</th>\n",
              "      <td>tempo</td>\n",
              "      <td>0.130841</td>\n",
              "    </tr>\n",
              "    <tr>\n",
              "      <th>2</th>\n",
              "      <td>a_songs</td>\n",
              "      <td>0.087233</td>\n",
              "    </tr>\n",
              "    <tr>\n",
              "      <th>0</th>\n",
              "      <td>lyric</td>\n",
              "      <td>0.013611</td>\n",
              "    </tr>\n",
              "    <tr>\n",
              "      <th>7</th>\n",
              "      <td>duration_ms</td>\n",
              "      <td>0.000122</td>\n",
              "    </tr>\n",
              "    <tr>\n",
              "      <th>24</th>\n",
              "      <td>language9</td>\n",
              "      <td>0.000000</td>\n",
              "    </tr>\n",
              "    <tr>\n",
              "      <th>19</th>\n",
              "      <td>language4</td>\n",
              "      <td>0.000000</td>\n",
              "    </tr>\n",
              "    <tr>\n",
              "      <th>15</th>\n",
              "      <td>language0</td>\n",
              "      <td>0.000000</td>\n",
              "    </tr>\n",
              "  </tbody>\n",
              "</table>\n",
              "</div>\n",
              "      <button class=\"colab-df-convert\" onclick=\"convertToInteractive('df-b4cb9932-e7db-4432-8e1c-8d53b26c5197')\"\n",
              "              title=\"Convert this dataframe to an interactive table.\"\n",
              "              style=\"display:none;\">\n",
              "        \n",
              "  <svg xmlns=\"http://www.w3.org/2000/svg\" height=\"24px\"viewBox=\"0 0 24 24\"\n",
              "       width=\"24px\">\n",
              "    <path d=\"M0 0h24v24H0V0z\" fill=\"none\"/>\n",
              "    <path d=\"M18.56 5.44l.94 2.06.94-2.06 2.06-.94-2.06-.94-.94-2.06-.94 2.06-2.06.94zm-11 1L8.5 8.5l.94-2.06 2.06-.94-2.06-.94L8.5 2.5l-.94 2.06-2.06.94zm10 10l.94 2.06.94-2.06 2.06-.94-2.06-.94-.94-2.06-.94 2.06-2.06.94z\"/><path d=\"M17.41 7.96l-1.37-1.37c-.4-.4-.92-.59-1.43-.59-.52 0-1.04.2-1.43.59L10.3 9.45l-7.72 7.72c-.78.78-.78 2.05 0 2.83L4 21.41c.39.39.9.59 1.41.59.51 0 1.02-.2 1.41-.59l7.78-7.78 2.81-2.81c.8-.78.8-2.07 0-2.86zM5.41 20L4 18.59l7.72-7.72 1.47 1.35L5.41 20z\"/>\n",
              "  </svg>\n",
              "      </button>\n",
              "      \n",
              "  <style>\n",
              "    .colab-df-container {\n",
              "      display:flex;\n",
              "      flex-wrap:wrap;\n",
              "      gap: 12px;\n",
              "    }\n",
              "\n",
              "    .colab-df-convert {\n",
              "      background-color: #E8F0FE;\n",
              "      border: none;\n",
              "      border-radius: 50%;\n",
              "      cursor: pointer;\n",
              "      display: none;\n",
              "      fill: #1967D2;\n",
              "      height: 32px;\n",
              "      padding: 0 0 0 0;\n",
              "      width: 32px;\n",
              "    }\n",
              "\n",
              "    .colab-df-convert:hover {\n",
              "      background-color: #E2EBFA;\n",
              "      box-shadow: 0px 1px 2px rgba(60, 64, 67, 0.3), 0px 1px 3px 1px rgba(60, 64, 67, 0.15);\n",
              "      fill: #174EA6;\n",
              "    }\n",
              "\n",
              "    [theme=dark] .colab-df-convert {\n",
              "      background-color: #3B4455;\n",
              "      fill: #D2E3FC;\n",
              "    }\n",
              "\n",
              "    [theme=dark] .colab-df-convert:hover {\n",
              "      background-color: #434B5C;\n",
              "      box-shadow: 0px 1px 3px 1px rgba(0, 0, 0, 0.15);\n",
              "      filter: drop-shadow(0px 1px 2px rgba(0, 0, 0, 0.3));\n",
              "      fill: #FFFFFF;\n",
              "    }\n",
              "  </style>\n",
              "\n",
              "      <script>\n",
              "        const buttonEl =\n",
              "          document.querySelector('#df-b4cb9932-e7db-4432-8e1c-8d53b26c5197 button.colab-df-convert');\n",
              "        buttonEl.style.display =\n",
              "          google.colab.kernel.accessAllowed ? 'block' : 'none';\n",
              "\n",
              "        async function convertToInteractive(key) {\n",
              "          const element = document.querySelector('#df-b4cb9932-e7db-4432-8e1c-8d53b26c5197');\n",
              "          const dataTable =\n",
              "            await google.colab.kernel.invokeFunction('convertToInteractive',\n",
              "                                                     [key], {});\n",
              "          if (!dataTable) return;\n",
              "\n",
              "          const docLinkHtml = 'Like what you see? Visit the ' +\n",
              "            '<a target=\"_blank\" href=https://colab.research.google.com/notebooks/data_table.ipynb>data table notebook</a>'\n",
              "            + ' to learn more about interactive tables.';\n",
              "          element.innerHTML = '';\n",
              "          dataTable['output_type'] = 'display_data';\n",
              "          await google.colab.output.renderOutput(dataTable, element);\n",
              "          const docLink = document.createElement('div');\n",
              "          docLink.innerHTML = docLinkHtml;\n",
              "          element.appendChild(docLink);\n",
              "        }\n",
              "      </script>\n",
              "    </div>\n",
              "  </div>\n",
              "  "
            ]
          },
          "metadata": {},
          "execution_count": 126
        }
      ]
    },
    {
      "cell_type": "code",
      "source": [
        "features_importantes = df.sort_values(by=['coef'], ascending=False).reset_index().iloc[:10]"
      ],
      "metadata": {
        "id": "71EIxLxIYXmP"
      },
      "execution_count": null,
      "outputs": []
    },
    {
      "cell_type": "code",
      "source": [
        "import matplotlib.pyplot as plt\n",
        "import seaborn as sns"
      ],
      "metadata": {
        "id": "rmX_liGRUjKi"
      },
      "execution_count": null,
      "outputs": []
    },
    {
      "cell_type": "code",
      "source": [
        "plt.figure(dpi=125,figsize=(4.8, 4.8))\n",
        "sns.barplot(data=features_importantes, x=\"features\", y=\"coef\", palette=['#A82C76'])\n",
        "plt.title(\"Distribución de los features más importantes\")\n",
        "plt.ylabel('Coeficientes')\n",
        "plt.xlabel('Features')\n",
        "plt.xticks(rotation=90)"
      ],
      "metadata": {
        "colab": {
          "base_uri": "https://localhost:8080/",
          "height": 746
        },
        "id": "lCcPZ1PdUj2N",
        "outputId": "4ca628e1-d82e-4648-fb32-d1848624a457"
      },
      "execution_count": null,
      "outputs": [
        {
          "output_type": "execute_result",
          "data": {
            "text/plain": [
              "(array([0, 1, 2, 3, 4, 5, 6, 7, 8, 9]),\n",
              " <a list of 10 Text major ticklabel objects>)"
            ]
          },
          "metadata": {},
          "execution_count": 129
        },
        {
          "output_type": "display_data",
          "data": {
            "text/plain": [
              "<Figure size 600x600 with 1 Axes>"
            ],
            "image/png": "[encoded data removed]"
          },
          "metadata": {
            "needs_background": "light"
          }
        }
      ]
    },
    {
      "cell_type": "markdown",
      "source": [
        "Los features más importantes son:\n",
        "\n",
        "\n",
        "*   speechiness\n",
        "*   daceability\n",
        "*   language2\n",
        "*   energy\n",
        "*   valence\n",
        "*   acousticness\n",
        "*   instrumentalness\n",
        "*   language7\n",
        "*   language1\n",
        "*   language6\n",
        "\n"
      ],
      "metadata": {
        "id": "7Egz1EYLaqDO"
      }
    }
  ]
}